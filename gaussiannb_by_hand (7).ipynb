{
 "cells": [
  {
   "cell_type": "code",
   "execution_count": 1,
   "metadata": {
    "collapsed": true
   },
   "outputs": [],
   "source": [
    "import pandas as pd"
   ]
  },
  {
   "cell_type": "code",
   "execution_count": 11,
   "metadata": {
    "collapsed": true
   },
   "outputs": [],
   "source": [
    "dt=pd.read_csv(\"bcancer.csv\")\n",
    "dt.drop('Unnamed: 0',axis=1,inplace=True)\n",
    "dt=dt.replace('?','15')\n",
    "dt['g']=dt['g'].astype(dtype='i')\n",
    "x=dt.drop(['a','class'],axis=1)\n",
    "y=dt['class']\n",
    "from sklearn.model_selection import train_test_split\n",
    "x_tr,x_ts,y_tr,y_ts=train_test_split(x,y,test_size=0.2)"
   ]
  },
  {
   "cell_type": "code",
   "execution_count": 12,
   "metadata": {},
   "outputs": [
    {
     "data": {
      "text/plain": [
       "0.9857142857142858"
      ]
     },
     "execution_count": 12,
     "metadata": {},
     "output_type": "execute_result"
    }
   ],
   "source": [
    "from sklearn.naive_bayes import GaussianNB\n",
    "algo=GaussianNB()\n",
    "algo.fit(x_tr,y_tr)\n",
    "algo.score(x_ts,y_ts)"
   ]
  },
  {
   "cell_type": "code",
   "execution_count": 13,
   "metadata": {},
   "outputs": [
    {
     "data": {
      "text/plain": [
       "0.9785714285714285"
      ]
     },
     "execution_count": 13,
     "metadata": {},
     "output_type": "execute_result"
    }
   ],
   "source": [
    "from sklearn.neighbors import KNeighborsClassifier\n",
    "algo1=KNeighborsClassifier()\n",
    "algo1.fit(x_tr,y_tr)\n",
    "algo1.score(x_ts,y_ts)"
   ]
  },
  {
   "cell_type": "code",
   "execution_count": 17,
   "metadata": {
    "collapsed": true
   },
   "outputs": [],
   "source": [
    "class_prob=dict(y_tr.value_counts(normalize=True))"
   ]
  },
  {
   "cell_type": "code",
   "execution_count": 24,
   "metadata": {},
   "outputs": [
    {
     "data": {
      "text/plain": [
       "{2: {0: [], 1: [], 2: [], 3: [], 4: [], 5: [], 6: [], 7: [], 8: []},\n",
       " 4: {0: [], 1: [], 2: [], 3: [], 4: [], 5: [], 6: [], 7: [], 8: []}}"
      ]
     },
     "execution_count": 24,
     "metadata": {},
     "output_type": "execute_result"
    }
   ],
   "source": [
    "d=dict.fromkeys(y_tr)\n",
    "for key in d:\n",
    "    d[key]=dict.fromkeys(range(x_tr.shape[1]))\n",
    "    for col in d[key]:\n",
    "        d[key][col]=[]\n",
    "d"
   ]
  },
  {
   "cell_type": "code",
   "execution_count": 25,
   "metadata": {},
   "outputs": [],
   "source": [
    "for ind in range(x_tr.shape[0]):\n",
    "    for col in range(x_tr.shape[1]):\n",
    "        d[y_tr.iloc[ind]][col].append(x_tr.iloc[ind].values[col])"
   ]
  },
  {
   "cell_type": "code",
   "execution_count": 26,
   "metadata": {
    "collapsed": true
   },
   "outputs": [],
   "source": [
    "for key in d:\n",
    "    for col in d[key]:\n",
    "        d[key][col]=dict(pd.Series(d[key][col]).value_counts(normalize=True))"
   ]
  },
  {
   "cell_type": "code",
   "execution_count": 27,
   "metadata": {
    "collapsed": true
   },
   "outputs": [
    {
     "data": {
      "text/plain": [
       "{2: {0: {1: 0.32054794520547947,\n",
       "   2: 0.10410958904109589,\n",
       "   3: 0.19726027397260273,\n",
       "   4: 0.14246575342465753,\n",
       "   5: 0.18356164383561643,\n",
       "   6: 0.038356164383561646,\n",
       "   7: 0.0027397260273972603,\n",
       "   8: 0.010958904109589041},\n",
       "  1: {1: 0.8136986301369863,\n",
       "   2: 0.08767123287671233,\n",
       "   3: 0.06575342465753424,\n",
       "   4: 0.021917808219178082,\n",
       "   6: 0.0027397260273972603,\n",
       "   7: 0.0027397260273972603,\n",
       "   8: 0.0027397260273972603,\n",
       "   9: 0.0027397260273972603},\n",
       "  2: {1: 0.7534246575342466,\n",
       "   2: 0.12054794520547946,\n",
       "   3: 0.07945205479452055,\n",
       "   4: 0.024657534246575342,\n",
       "   5: 0.00821917808219178,\n",
       "   6: 0.005479452054794521,\n",
       "   7: 0.005479452054794521,\n",
       "   8: 0.0027397260273972603},\n",
       "  3: {1: 0.810958904109589,\n",
       "   2: 0.07671232876712329,\n",
       "   3: 0.07397260273972603,\n",
       "   4: 0.0136986301369863,\n",
       "   5: 0.010958904109589041,\n",
       "   6: 0.010958904109589041,\n",
       "   10: 0.0027397260273972603},\n",
       "  4: {1: 0.10684931506849316,\n",
       "   2: 0.7835616438356164,\n",
       "   3: 0.06301369863013699,\n",
       "   4: 0.01643835616438356,\n",
       "   5: 0.010958904109589041,\n",
       "   6: 0.0027397260273972603,\n",
       "   7: 0.00821917808219178,\n",
       "   8: 0.005479452054794521,\n",
       "   10: 0.0027397260273972603},\n",
       "  5: {1: 0.8383561643835616,\n",
       "   2: 0.049315068493150684,\n",
       "   3: 0.03561643835616438,\n",
       "   4: 0.010958904109589041,\n",
       "   5: 0.019178082191780823,\n",
       "   7: 0.0027397260273972603,\n",
       "   8: 0.005479452054794521,\n",
       "   10: 0.00821917808219178,\n",
       "   15: 0.030136986301369864},\n",
       "  6: {1: 0.32602739726027397,\n",
       "   2: 0.3424657534246575,\n",
       "   3: 0.27945205479452057,\n",
       "   4: 0.021917808219178082,\n",
       "   5: 0.010958904109589041,\n",
       "   6: 0.0027397260273972603,\n",
       "   7: 0.01643835616438356},\n",
       "  7: {1: 0.8657534246575342,\n",
       "   2: 0.07123287671232877,\n",
       "   3: 0.030136986301369864,\n",
       "   4: 0.0027397260273972603,\n",
       "   5: 0.005479452054794521,\n",
       "   6: 0.00821917808219178,\n",
       "   7: 0.005479452054794521,\n",
       "   8: 0.00821917808219178,\n",
       "   9: 0.0027397260273972603},\n",
       "  8: {1: 0.9753424657534246,\n",
       "   2: 0.0136986301369863,\n",
       "   3: 0.0027397260273972603,\n",
       "   5: 0.0027397260273972603,\n",
       "   7: 0.0027397260273972603,\n",
       "   8: 0.0027397260273972603}},\n",
       " 4: {0: {1: 0.010362694300518135,\n",
       "   2: 0.02072538860103627,\n",
       "   3: 0.05181347150259067,\n",
       "   4: 0.046632124352331605,\n",
       "   5: 0.18652849740932642,\n",
       "   6: 0.06217616580310881,\n",
       "   7: 0.09326424870466321,\n",
       "   8: 0.18134715025906736,\n",
       "   9: 0.06217616580310881,\n",
       "   10: 0.2849740932642487},\n",
       "  1: {1: 0.02072538860103627,\n",
       "   2: 0.025906735751295335,\n",
       "   3: 0.11398963730569948,\n",
       "   4: 0.14507772020725387,\n",
       "   5: 0.10362694300518134,\n",
       "   6: 0.10362694300518134,\n",
       "   7: 0.07253886010362694,\n",
       "   8: 0.10362694300518134,\n",
       "   9: 0.025906735751295335,\n",
       "   10: 0.2849740932642487},\n",
       "  2: {1: 0.010362694300518135,\n",
       "   2: 0.03626943005181347,\n",
       "   3: 0.08808290155440414,\n",
       "   4: 0.12953367875647667,\n",
       "   5: 0.12435233160621761,\n",
       "   6: 0.10880829015544041,\n",
       "   7: 0.12435233160621761,\n",
       "   8: 0.10362694300518134,\n",
       "   9: 0.031088082901554404,\n",
       "   10: 0.24352331606217617},\n",
       "  3: {1: 0.13471502590673576,\n",
       "   2: 0.08808290155440414,\n",
       "   3: 0.10880829015544041,\n",
       "   4: 0.10362694300518134,\n",
       "   5: 0.07772020725388601,\n",
       "   6: 0.06217616580310881,\n",
       "   7: 0.06217616580310881,\n",
       "   8: 0.10880829015544041,\n",
       "   9: 0.02072538860103627,\n",
       "   10: 0.23316062176165803},\n",
       "  4: {1: 0.0051813471502590676,\n",
       "   2: 0.09844559585492228,\n",
       "   3: 0.18652849740932642,\n",
       "   4: 0.16062176165803108,\n",
       "   5: 0.14507772020725387,\n",
       "   6: 0.15544041450777202,\n",
       "   7: 0.03626943005181347,\n",
       "   8: 0.07772020725388601,\n",
       "   9: 0.010362694300518135,\n",
       "   10: 0.12435233160621761},\n",
       "  5: {1: 0.031088082901554404,\n",
       "   2: 0.025906735751295335,\n",
       "   3: 0.05699481865284974,\n",
       "   4: 0.05181347150259067,\n",
       "   5: 0.09844559585492228,\n",
       "   6: 0.015544041450777202,\n",
       "   7: 0.025906735751295335,\n",
       "   8: 0.07253886010362694,\n",
       "   9: 0.031088082901554404,\n",
       "   10: 0.5854922279792746,\n",
       "   15: 0.0051813471502590676},\n",
       "  6: {1: 0.010362694300518135,\n",
       "   2: 0.031088082901554404,\n",
       "   3: 0.14507772020725387,\n",
       "   4: 0.12435233160621761,\n",
       "   5: 0.13471502590673576,\n",
       "   6: 0.04145077720207254,\n",
       "   7: 0.27461139896373055,\n",
       "   8: 0.10362694300518134,\n",
       "   9: 0.046632124352331605,\n",
       "   10: 0.08808290155440414},\n",
       "  7: {1: 0.16062176165803108,\n",
       "   2: 0.025906735751295335,\n",
       "   3: 0.13471502590673576,\n",
       "   4: 0.06735751295336788,\n",
       "   5: 0.06735751295336788,\n",
       "   6: 0.08808290155440414,\n",
       "   7: 0.046632124352331605,\n",
       "   8: 0.07772020725388601,\n",
       "   9: 0.07253886010362694,\n",
       "   10: 0.25906735751295334},\n",
       "  8: {1: 0.5492227979274611,\n",
       "   2: 0.11917098445595854,\n",
       "   3: 0.12435233160621761,\n",
       "   4: 0.046632124352331605,\n",
       "   5: 0.02072538860103627,\n",
       "   6: 0.015544041450777202,\n",
       "   7: 0.04145077720207254,\n",
       "   8: 0.031088082901554404,\n",
       "   10: 0.05181347150259067}}}"
      ]
     },
     "execution_count": 27,
     "metadata": {},
     "output_type": "execute_result"
    }
   ],
   "source": [
    "d"
   ]
  },
  {
   "cell_type": "code",
   "execution_count": 47,
   "metadata": {},
   "outputs": [],
   "source": [
    "def predict(x,cls,d):\n",
    "    cl=cls.copy()\n",
    "    for ind in cl:\n",
    "        for col in range(len(x)):\n",
    "            cl[ind]*=d[ind][col].get(x[col],0)\n",
    "    return max(cl,key=cl.get)\n"
   ]
  },
  {
   "cell_type": "code",
   "execution_count": 49,
   "metadata": {},
   "outputs": [
    {
     "data": {
      "text/plain": [
       "0.9928571428571429"
      ]
     },
     "execution_count": 49,
     "metadata": {},
     "output_type": "execute_result"
    }
   ],
   "source": [
    "c=0\n",
    "for i in range(x_ts.shape[0]):\n",
    "    if predict(x_ts.iloc[i],class_prob,d)==y_ts.iloc[i]:\n",
    "        c+=1\n",
    "c/x_ts.shape[0]"
   ]
  },
  {
   "cell_type": "code",
   "execution_count": 50,
   "metadata": {
    "collapsed": true
   },
   "outputs": [],
   "source": [
    "class GNB:\n",
    "    def fit(s,x_tr,y_tr):\n",
    "        s.cls=dict(y_tr.value_counts(normalize=True))\n",
    "        s.d=dict.fromkeys(y_tr)\n",
    "        for key in d:\n",
    "            s.d[key]=dict.fromkeys(range(x_tr.shape[1]))\n",
    "            for col in d[key]:\n",
    "                s.d[key][col]=[]\n",
    "        for ind in range(x_tr.shape[0]):\n",
    "            for col in range(x_tr.shape[1]):\n",
    "                s.d[y_tr.iloc[ind]][col].append(x_tr.iloc[ind].values[col])\n",
    "        for key in d:\n",
    "            for col in d[key]:\n",
    "                s.d[key][col]=dict(pd.Series(s.d[key][col]).value_counts(normalize=True))\n",
    "    def predict(s,x):\n",
    "        cl=s.cls.copy()\n",
    "        for ind in cl:\n",
    "            for col in range(len(x)):\n",
    "                cl[ind]*=s.d[ind][col].get(x[col],0)\n",
    "        return max(cl,key=cl.get)\n",
    "    def score(s,x_ts,y_ts):\n",
    "        c=0\n",
    "        for i in range(x_ts.shape[0]):\n",
    "            if s.predict(x_ts.iloc[i])==y_ts.iloc[i]:\n",
    "                c+=1\n",
    "        return c/x_ts.shape[0]"
   ]
  },
  {
   "cell_type": "code",
   "execution_count": 51,
   "metadata": {},
   "outputs": [
    {
     "data": {
      "text/plain": [
       "0.9928571428571429"
      ]
     },
     "execution_count": 51,
     "metadata": {},
     "output_type": "execute_result"
    }
   ],
   "source": [
    "alg=GNB()\n",
    "alg.fit(x_tr,y_tr)\n",
    "alg.score(x_ts,y_ts)"
   ]
  },
  {
   "cell_type": "code",
   "execution_count": null,
   "metadata": {
    "collapsed": true
   },
   "outputs": [],
   "source": []
  }
 ],
 "metadata": {
  "kernelspec": {
   "display_name": "Python 3",
   "language": "python",
   "name": "python3"
  },
  "language_info": {
   "codemirror_mode": {
    "name": "ipython",
    "version": 3
   },
   "file_extension": ".py",
   "mimetype": "text/x-python",
   "name": "python",
   "nbconvert_exporter": "python",
   "pygments_lexer": "ipython3",
   "version": "3.5.0"
  }
 },
 "nbformat": 4,
 "nbformat_minor": 2
}

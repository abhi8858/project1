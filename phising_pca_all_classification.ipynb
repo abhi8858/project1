{
 "cells": [
  {
   "cell_type": "code",
   "execution_count": 1,
   "metadata": {
    "collapsed": true
   },
   "outputs": [],
   "source": [
    "import requests as rt\n",
    "from scipy.io import arff\n",
    "from io import StringIO\n",
    "import pandas as pd"
   ]
  },
  {
   "cell_type": "code",
   "execution_count": 2,
   "metadata": {
    "collapsed": true
   },
   "outputs": [],
   "source": [
    "dt=rt.request('get','https://archive.ics.uci.edu/ml/machine-learning-databases/00327/.old.arff')\n",
    "dta=arff.loadarff(StringIO(dt.text))"
   ]
  },
  {
   "cell_type": "code",
   "execution_count": 6,
   "metadata": {
    "collapsed": true
   },
   "outputs": [
    {
     "data": {
      "text/plain": [
       "array([(b'1', b'1', b'0', b'0', b'1', b'-1', b'-1', b'-1', b'0', b'0', b'0', b'1', b'1', b'-1', b'1', b'-1', b'1', b'1', b'0', b'0', b'0', b'0', b'0', b'-1', b'1', b'-1', b'-1', b'0', b'1', b'1', b'1'),\n",
       "       (b'0', b'1', b'0', b'0', b'0', b'-1', b'0', b'1', b'0', b'0', b'0', b'1', b'1', b'0', b'-1', b'-1', b'0', b'0', b'0', b'0', b'0', b'0', b'0', b'-1', b'1', b'0', b'-1', b'0', b'1', b'0', b'1'),\n",
       "       (b'0', b'0', b'0', b'0', b'0', b'-1', b'-1', b'-1', b'0', b'0', b'0', b'1', b'1', b'0', b'-1', b'-1', b'1', b'1', b'0', b'0', b'0', b'0', b'0', b'0', b'1', b'1', b'-1', b'0', b'0', b'1', b'1'),\n",
       "       ...,\n",
       "       (b'0', b'-1', b'0', b'0', b'0', b'0', b'0', b'1', b'0', b'0', b'0', b'0', b'1', b'0', b'1', b'-1', b'0', b'0', b'0', b'0', b'0', b'0', b'0', b'-1', b'0', b'1', b'0', b'0', b'0', b'0', b'-1'),\n",
       "       (b'0', b'-1', b'0', b'0', b'0', b'0', b'-1', b'-1', b'1', b'0', b'0', b'0', b'1', b'-1', b'-1', b'-1', b'0', b'0', b'0', b'0', b'0', b'0', b'0', b'1', b'0', b'-1', b'-1', b'0', b'0', b'0', b'1'),\n",
       "       (b'0', b'-1', b'0', b'0', b'0', b'0', b'0', b'1', b'0', b'0', b'0', b'0', b'1', b'0', b'0', b'-1', b'0', b'0', b'0', b'0', b'0', b'0', b'0', b'-1', b'0', b'1', b'1', b'0', b'0', b'0', b'-1')],\n",
       "      dtype=[('having_IP_Address', 'S1'), ('URL_Length', 'S2'), ('Shortining_Service', 'S1'), ('having_At_Symbol', 'S1'), ('double_slash_redirecting', 'S1'), ('Prefix_Suffix', 'S2'), ('having_Sub_Domain', 'S2'), ('SSLfinal_State', 'S2'), ('Domain_registeration_length', 'S2'), ('Favicon', 'S1'), ('port', 'S1'), ('HTTPS_token', 'S1'), ('Request_URL', 'S2'), ('URL_of_Anchor', 'S2'), ('Links_in_tags', 'S2'), ('SFH', 'S2'), ('Submitting_to_email', 'S1'), ('Abnormal_URL', 'S1'), ('Redirect', 'S1'), ('on_mouseover', 'S1'), ('RightClick', 'S1'), ('popUpWidnow', 'S1'), ('Iframe', 'S1'), ('age_of_domain', 'S2'), ('DNSRecord', 'S1'), ('web_traffic', 'S2'), ('Page_Rank', 'S2'), ('Google_Index', 'S1'), ('Links_pointing_to_page', 'S2'), ('Statistical_report', 'S1'), ('Result', 'S2')])"
      ]
     },
     "execution_count": 6,
     "metadata": {},
     "output_type": "execute_result"
    }
   ],
   "source": [
    "dta[0]"
   ]
  },
  {
   "cell_type": "code",
   "execution_count": 7,
   "metadata": {
    "collapsed": true
   },
   "outputs": [],
   "source": [
    "data=pd.DataFrame(dta[0])"
   ]
  },
  {
   "cell_type": "code",
   "execution_count": 9,
   "metadata": {
    "collapsed": true
   },
   "outputs": [],
   "source": [
    "for i in data.columns:\n",
    "    data[i]=data[i].astype(dtype='i')"
   ]
  },
  {
   "cell_type": "code",
   "execution_count": 32,
   "metadata": {},
   "outputs": [],
   "source": [
    "from sklearn.decomposition.pca import PCA\n",
    "x=data.drop('Result',axis=1)\n",
    "alg=PCA(2)\n",
    "alg.fit(x)\n",
    "x=alg.transform(x)\n",
    "y=data['Result']"
   ]
  },
  {
   "cell_type": "code",
   "execution_count": 33,
   "metadata": {},
   "outputs": [],
   "source": [
    "from sklearn.model_selection import train_test_split\n",
    "x_tr,x_ts,y_tr,y_ts=train_test_split(x,y,test_size=0.2)"
   ]
  },
  {
   "cell_type": "code",
   "execution_count": 34,
   "metadata": {},
   "outputs": [
    {
     "data": {
      "text/plain": [
       "0.9186991869918699"
      ]
     },
     "execution_count": 34,
     "metadata": {},
     "output_type": "execute_result"
    }
   ],
   "source": [
    "from sklearn.neighbors import KNeighborsClassifier\n",
    "algo=KNeighborsClassifier()\n",
    "algo.fit(x_tr,y_tr)\n",
    "algo.score(x_ts,y_ts)"
   ]
  },
  {
   "cell_type": "code",
   "execution_count": 35,
   "metadata": {},
   "outputs": [
    {
     "data": {
      "text/plain": [
       "0.9065040650406504"
      ]
     },
     "execution_count": 35,
     "metadata": {},
     "output_type": "execute_result"
    }
   ],
   "source": [
    "from sklearn.naive_bayes import GaussianNB\n",
    "algo1=GaussianNB()\n",
    "algo1.fit(x_tr,y_tr)\n",
    "algo1.score(x_ts,y_ts)"
   ]
  },
  {
   "cell_type": "code",
   "execution_count": 36,
   "metadata": {},
   "outputs": [
    {
     "data": {
      "text/plain": [
       "0.9186991869918699"
      ]
     },
     "execution_count": 36,
     "metadata": {},
     "output_type": "execute_result"
    }
   ],
   "source": [
    "from sklearn.linear_model import LogisticRegression\n",
    "algo2=LogisticRegression()\n",
    "algo2.fit(x_tr,y_tr)\n",
    "algo2.score(x_ts,y_ts)"
   ]
  },
  {
   "cell_type": "code",
   "execution_count": 37,
   "metadata": {},
   "outputs": [
    {
     "data": {
      "text/plain": [
       "0.9166666666666666"
      ]
     },
     "execution_count": 37,
     "metadata": {},
     "output_type": "execute_result"
    }
   ],
   "source": [
    "from sklearn.svm import SVC\n",
    "algo3=SVC()\n",
    "algo3.fit(x_tr,y_tr)\n",
    "algo3.score(x_ts,y_ts)"
   ]
  },
  {
   "cell_type": "code",
   "execution_count": 38,
   "metadata": {},
   "outputs": [
    {
     "data": {
      "text/plain": [
       "0.943089430894309"
      ]
     },
     "execution_count": 38,
     "metadata": {},
     "output_type": "execute_result"
    }
   ],
   "source": [
    "from sklearn.tree import DecisionTreeClassifier\n",
    "algo4=DecisionTreeClassifier()\n",
    "algo4.fit(x_tr,y_tr)\n",
    "algo4.score(x_ts,y_ts)"
   ]
  },
  {
   "cell_type": "code",
   "execution_count": 39,
   "metadata": {},
   "outputs": [
    {
     "data": {
      "text/plain": [
       "0.9166666666666666"
      ]
     },
     "execution_count": 39,
     "metadata": {},
     "output_type": "execute_result"
    }
   ],
   "source": [
    "from sklearn.ensemble import AdaBoostClassifier\n",
    "algo5=AdaBoostClassifier()\n",
    "algo5.fit(x_tr,y_tr)\n",
    "algo5.score(x_ts,y_ts)"
   ]
  },
  {
   "cell_type": "code",
   "execution_count": 40,
   "metadata": {},
   "outputs": [
    {
     "data": {
      "text/plain": [
       "0.9308943089430894"
      ]
     },
     "execution_count": 40,
     "metadata": {},
     "output_type": "execute_result"
    }
   ],
   "source": [
    "from sklearn.ensemble import GradientBoostingClassifier\n",
    "algo6=GradientBoostingClassifier()\n",
    "algo6.fit(x_tr,y_tr)\n",
    "algo6.score(x_ts,y_ts)"
   ]
  },
  {
   "cell_type": "code",
   "execution_count": 41,
   "metadata": {
    "scrolled": true
   },
   "outputs": [
    {
     "data": {
      "text/plain": [
       "0.9532520325203252"
      ]
     },
     "execution_count": 41,
     "metadata": {},
     "output_type": "execute_result"
    }
   ],
   "source": [
    "from sklearn.ensemble import RandomForestClassifier\n",
    "algo7=RandomForestClassifier()\n",
    "algo7.fit(x_tr,y_tr)\n",
    "algo7.score(x_ts,y_ts)"
   ]
  },
  {
   "cell_type": "code",
   "execution_count": 42,
   "metadata": {},
   "outputs": [
    {
     "name": "stderr",
     "output_type": "stream",
     "text": [
      "C:\\Users\\amit\\Anaconda3\\lib\\site-packages\\sklearn\\preprocessing\\label.py:151: DeprecationWarning: The truth value of an empty array is ambiguous. Returning False, but in future this will result in an error. Use `array.size > 0` to check that an array is not empty.\n",
      "  if diff:\n"
     ]
    },
    {
     "data": {
      "text/plain": [
       "0.926829268292683"
      ]
     },
     "execution_count": 42,
     "metadata": {},
     "output_type": "execute_result"
    }
   ],
   "source": [
    "from sklearn.ensemble import VotingClassifier\n",
    "algo8=VotingClassifier([('lr', algo2), ('rf', algo7), ('gnb', algo1)])\n",
    "algo8.fit(x_tr,y_tr)\n",
    "algo8.score(x_ts,y_ts)"
   ]
  },
  {
   "cell_type": "code",
   "execution_count": null,
   "metadata": {
    "collapsed": true
   },
   "outputs": [],
   "source": []
  }
 ],
 "metadata": {
  "kernelspec": {
   "display_name": "Python 3",
   "language": "python",
   "name": "python3"
  },
  "language_info": {
   "codemirror_mode": {
    "name": "ipython",
    "version": 3
   },
   "file_extension": ".py",
   "mimetype": "text/x-python",
   "name": "python",
   "nbconvert_exporter": "python",
   "pygments_lexer": "ipython3",
   "version": "3.5.0"
  }
 },
 "nbformat": 4,
 "nbformat_minor": 2
}

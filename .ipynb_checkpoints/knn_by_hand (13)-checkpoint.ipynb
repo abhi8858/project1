{
 "cells": [
  {
   "cell_type": "code",
   "execution_count": 1,
   "metadata": {},
   "outputs": [],
   "source": [
    "import numpy as np\n",
    "import matplotlib.pyplot as plt"
   ]
  },
  {
   "cell_type": "code",
   "execution_count": 2,
   "metadata": {},
   "outputs": [],
   "source": [
    "data={'+':np.array([[1,2],[3,2],[1,1.9],[2,2.9]]),\n",
    "      \"*\":np.array([[4,5],[5,5.9],[7,5],[6,4.5]])}"
   ]
  },
  {
   "cell_type": "code",
   "execution_count": 3,
   "metadata": {},
   "outputs": [
    {
     "data": {
      "text/plain": [
       "<matplotlib.collections.PathCollection at 0x11c4b625b08>"
      ]
     },
     "execution_count": 3,
     "metadata": {},
     "output_type": "execute_result"
    },
    {
     "data": {
      "image/png": "[encoded data removed]",
      "text/plain": [
       "<Figure size 432x288 with 1 Axes>"
      ]
     },
     "metadata": {
      "needs_background": "light"
     },
     "output_type": "display_data"
    }
   ],
   "source": [
    "for i in data:\n",
    "    plt.scatter(data[i][:,0],data[i][:,1],marker=i,s=150)\n",
    "plt.scatter(3,4.2,marker='x',s=150)"
   ]
  },
  {
   "cell_type": "code",
   "execution_count": 4,
   "metadata": {},
   "outputs": [],
   "source": [
    "a=np.array([3,4])\n",
    "b=np.array([7,4.9])"
   ]
  },
  {
   "cell_type": "code",
   "execution_count": 5,
   "metadata": {},
   "outputs": [
    {
     "data": {
      "text/plain": [
       "4.1000000000000005"
      ]
     },
     "execution_count": 5,
     "metadata": {},
     "output_type": "execute_result"
    }
   ],
   "source": [
    "np.sqrt(sum((a-b)**2))"
   ]
  },
  {
   "cell_type": "code",
   "execution_count": 6,
   "metadata": {},
   "outputs": [
    {
     "data": {
      "text/plain": [
       "4.1000000000000005"
      ]
     },
     "execution_count": 6,
     "metadata": {},
     "output_type": "execute_result"
    }
   ],
   "source": [
    "np.linalg.norm(a-b)"
   ]
  },
  {
   "cell_type": "code",
   "execution_count": 7,
   "metadata": {},
   "outputs": [],
   "source": [
    "from scipy.spatial.distance import minkowski,euclidean"
   ]
  },
  {
   "cell_type": "code",
   "execution_count": 8,
   "metadata": {},
   "outputs": [
    {
     "data": {
      "text/plain": [
       "4.1000000000000005"
      ]
     },
     "execution_count": 8,
     "metadata": {},
     "output_type": "execute_result"
    }
   ],
   "source": [
    "minkowski(a,b,2)"
   ]
  },
  {
   "cell_type": "code",
   "execution_count": 9,
   "metadata": {},
   "outputs": [
    {
     "data": {
      "text/plain": [
       "4.1000000000000005"
      ]
     },
     "execution_count": 9,
     "metadata": {},
     "output_type": "execute_result"
    }
   ],
   "source": [
    "euclidean(a,b)"
   ]
  },
  {
   "cell_type": "code",
   "execution_count": 10,
   "metadata": {},
   "outputs": [
    {
     "data": {
      "text/plain": [
       "'+'"
      ]
     },
     "execution_count": 10,
     "metadata": {},
     "output_type": "execute_result"
    }
   ],
   "source": [
    "from collections import Counter\n",
    "import pandas as pd\n",
    "def knn(dt,prd):\n",
    "    d=[]\n",
    "    for key in dt:\n",
    "        for points in dt[key]:\n",
    "            d.append((euclidean(points,prd),key))\n",
    "    v=sorted(d)[:3]\n",
    "    v=[i[1] for i in v]\n",
    "    #Counter(v).most_common(1)[0][0]\n",
    "    x=dict(pd.Series(v).value_counts())\n",
    "    return max(x,key=x.get)\n",
    "\n",
    "knn(data,np.array([3,4.2]))"
   ]
  },
  {
   "cell_type": "code",
   "execution_count": 11,
   "metadata": {},
   "outputs": [],
   "source": [
    "import pandas as pd"
   ]
  },
  {
   "cell_type": "code",
   "execution_count": 12,
   "metadata": {},
   "outputs": [],
   "source": [
    "dt=pd.read_csv(\"bcancer.csv\")\n",
    "dt.drop('Unnamed: 0',axis=1,inplace=True)\n",
    "dt=dt.replace('?','15')\n",
    "dt['g']=dt['g'].astype(dtype='i')\n",
    "x=dt.drop(['a','class'],axis=1)\n",
    "y=dt['class']\n",
    "from sklearn.model_selection import train_test_split\n",
    "x_tr,x_ts,y_tr,y_ts=train_test_split(x,y,test_size=0.2)"
   ]
  },
  {
   "cell_type": "code",
   "execution_count": 13,
   "metadata": {},
   "outputs": [
    {
     "data": {
      "text/plain": [
       "((558, 9), (558,))"
      ]
     },
     "execution_count": 13,
     "metadata": {},
     "output_type": "execute_result"
    }
   ],
   "source": [
    "x_tr.shape,y_tr.shape"
   ]
  },
  {
   "cell_type": "code",
   "execution_count": 14,
   "metadata": {},
   "outputs": [
    {
     "data": {
      "text/plain": [
       "{4: [], 2: []}"
      ]
     },
     "execution_count": 14,
     "metadata": {},
     "output_type": "execute_result"
    }
   ],
   "source": [
    "datas=dict.fromkeys(y_tr.unique())\n",
    "for key in datas:\n",
    "    datas[key]=[]\n",
    "datas"
   ]
  },
  {
   "cell_type": "code",
   "execution_count": 15,
   "metadata": {},
   "outputs": [],
   "source": [
    "for i in range(x_tr.shape[0]):\n",
    "    datas[y_tr.iloc[i]].append(x_tr.iloc[i].values)"
   ]
  },
  {
   "cell_type": "code",
   "execution_count": 16,
   "metadata": {},
   "outputs": [
    {
     "data": {
      "text/plain": [
       "{4: [array([10,  4,  3, 10,  3, 10,  7,  1,  2], dtype=int64),\n",
       "  array([10, 10, 10,  6,  8,  4,  8,  5,  1], dtype=int64),\n",
       "  array([10,  4,  5,  4,  3,  5,  7,  3,  1], dtype=int64),\n",
       "  array([10,  4,  4, 10,  2, 10,  5,  3,  3], dtype=int64),\n",
       "  array([ 7,  6,  6,  3,  2, 10,  7,  1,  1], dtype=int64),\n",
       "  array([ 8,  6,  5,  4,  3, 10,  6,  1,  1], dtype=int64),\n",
       "  array([10,  8,  8,  2,  3,  4,  8,  7,  8], dtype=int64),\n",
       "  array([ 5,  8,  8,  8,  5, 10,  7,  8,  1], dtype=int64),\n",
       "  array([ 5,  5,  5,  2,  5, 10,  4,  3,  1], dtype=int64),\n",
       "  array([ 5,  4,  4,  9,  2, 10,  5,  6,  1], dtype=int64),\n",
       "  array([ 8,  6,  7,  3,  3, 10,  3,  4,  2], dtype=int64),\n",
       "  array([5, 2, 3, 4, 2, 7, 3, 6, 1], dtype=int64),\n",
       "  array([ 3,  6,  4, 10,  3,  3,  3,  4,  1], dtype=int64),\n",
       "  array([ 5, 10,  6,  1, 10,  4,  4, 10, 10], dtype=int64),\n",
       "  array([10,  3,  4,  5,  3, 10,  4,  1,  1], dtype=int64),\n",
       "  array([ 4,  7,  8,  3,  4, 10,  9,  1,  1], dtype=int64),\n",
       "  array([ 3,  6,  6,  6,  5, 10,  6,  8,  3], dtype=int64),\n",
       "  array([ 4,  8,  6,  3,  4, 10,  7,  1,  1], dtype=int64),\n",
       "  array([10,  5,  5,  6,  3, 10,  7,  9,  2], dtype=int64),\n",
       "  array([ 8,  7,  8,  5,  5, 10,  9, 10,  1], dtype=int64),\n",
       "  array([10, 10, 10,  8,  6,  1,  8,  9,  1], dtype=int64),\n",
       "  array([3, 3, 6, 4, 5, 8, 4, 4, 1], dtype=int64),\n",
       "  array([7, 4, 7, 4, 3, 7, 7, 6, 1], dtype=int64),\n",
       "  array([2, 3, 4, 4, 2, 5, 2, 5, 1], dtype=int64),\n",
       "  array([ 4, 10,  8,  5,  4,  1, 10,  1,  1], dtype=int64),\n",
       "  array([ 5,  5,  5,  8, 10,  8,  7,  3,  7], dtype=int64),\n",
       "  array([ 6, 10, 10,  2,  8, 10,  7,  3,  3], dtype=int64),\n",
       "  array([ 6, 10, 10, 10,  8, 10, 10, 10,  7], dtype=int64),\n",
       "  array([ 8,  5,  6,  2,  3, 10,  6,  6,  1], dtype=int64),\n",
       "  array([10, 10,  8, 10,  6,  5, 10,  3,  1], dtype=int64),\n",
       "  array([ 6, 10,  2,  8, 10,  2,  7,  8, 10], dtype=int64),\n",
       "  array([10,  6,  4,  1,  3,  4,  3,  2,  3], dtype=int64),\n",
       "  array([ 8, 10, 10,  1,  3,  6,  3,  9,  1], dtype=int64),\n",
       "  array([ 4,  5,  5, 10,  4, 10,  7,  5,  8], dtype=int64),\n",
       "  array([5, 3, 3, 3, 2, 3, 4, 4, 1], dtype=int64),\n",
       "  array([6, 8, 7, 8, 6, 8, 8, 9, 1], dtype=int64),\n",
       "  array([8, 6, 4, 3, 5, 9, 3, 1, 1], dtype=int64),\n",
       "  array([ 4,  8,  7, 10,  4, 10,  7,  5,  1], dtype=int64),\n",
       "  array([10, 10,  6,  3,  3, 10,  4,  3,  2], dtype=int64),\n",
       "  array([10,  6,  3,  6,  4, 10,  7,  8,  4], dtype=int64),\n",
       "  array([ 5,  6,  6,  2,  4, 10,  3,  6,  1], dtype=int64),\n",
       "  array([ 8,  4, 10,  5,  4,  4,  7, 10,  1], dtype=int64),\n",
       "  array([ 7,  8,  8,  7,  3, 10,  7,  2,  3], dtype=int64),\n",
       "  array([ 7,  5,  6, 10,  4, 10,  5,  3,  1], dtype=int64),\n",
       "  array([ 3,  5,  7,  8,  8,  9,  7, 10,  7], dtype=int64),\n",
       "  array([ 5,  6,  7,  8,  8, 10,  3, 10,  3], dtype=int64),\n",
       "  array([ 3,  3,  5,  2,  3, 10,  7,  1,  1], dtype=int64),\n",
       "  array([ 8, 10, 10, 10,  5, 10,  8, 10,  6], dtype=int64),\n",
       "  array([10,  4,  7,  2,  2,  8,  6,  1,  1], dtype=int64),\n",
       "  array([ 8,  4,  4,  1,  6, 10,  2,  5,  2], dtype=int64),\n",
       "  array([ 7,  6, 10,  5,  3, 10,  9, 10,  2], dtype=int64),\n",
       "  array([10,  4,  6,  1,  2, 10,  5,  3,  1], dtype=int64),\n",
       "  array([ 9,  7,  7,  5,  5, 10,  7,  8,  3], dtype=int64),\n",
       "  array([ 9,  8,  8,  5,  6,  2,  4, 10,  4], dtype=int64),\n",
       "  array([ 4,  5,  5,  8,  6, 10, 10,  7,  1], dtype=int64),\n",
       "  array([10,  8,  8,  2,  8, 10,  4,  8, 10], dtype=int64),\n",
       "  array([10,  4,  3,  2,  3, 10,  5,  3,  2], dtype=int64),\n",
       "  array([ 8, 10, 10,  8,  5, 10,  7,  8,  1], dtype=int64),\n",
       "  array([ 8,  6,  4, 10, 10,  1,  3,  5,  1], dtype=int64),\n",
       "  array([10,  5,  6, 10,  6, 10,  7,  7, 10], dtype=int64),\n",
       "  array([10, 10, 10, 10,  3, 10, 10,  6,  1], dtype=int64),\n",
       "  array([8, 4, 4, 1, 2, 9, 3, 3, 1], dtype=int64),\n",
       "  array([ 7,  4,  4,  3,  4, 10,  6,  9,  1], dtype=int64),\n",
       "  array([8, 3, 8, 3, 4, 9, 8, 9, 8], dtype=int64),\n",
       "  array([ 8,  7,  8,  2,  4,  2,  5, 10,  1], dtype=int64),\n",
       "  array([ 3, 10,  3, 10,  6, 10,  5,  1,  4], dtype=int64),\n",
       "  array([10,  8, 10,  1,  3, 10,  5,  1,  1], dtype=int64),\n",
       "  array([ 5,  2,  3,  1,  6, 10,  5,  1,  1], dtype=int64),\n",
       "  array([10,  6,  6,  2,  4, 10,  9,  7,  1], dtype=int64),\n",
       "  array([10,  4,  3, 10,  4, 10, 10,  1,  1], dtype=int64),\n",
       "  array([ 5, 10, 10, 10, 10,  2, 10, 10, 10], dtype=int64),\n",
       "  array([ 8,  3,  4,  9,  3, 10,  3,  3,  1], dtype=int64),\n",
       "  array([8, 2, 3, 1, 6, 3, 7, 1, 1], dtype=int64),\n",
       "  array([9, 5, 5, 2, 2, 2, 5, 1, 1], dtype=int64),\n",
       "  array([10,  3,  5,  4,  3,  7,  3,  5,  3], dtype=int64),\n",
       "  array([ 5,  7,  9,  8,  6, 10,  8, 10,  1], dtype=int64),\n",
       "  array([ 7,  5,  3,  7,  4, 10,  7,  5,  5], dtype=int64),\n",
       "  array([ 8,  7,  5, 10,  7,  9,  5,  5,  4], dtype=int64),\n",
       "  array([ 5,  7, 10, 10,  5, 10, 10, 10,  1], dtype=int64),\n",
       "  array([10,  6,  4,  3, 10, 10,  9, 10,  1], dtype=int64),\n",
       "  array([ 9,  6,  9,  2, 10,  6,  2,  9, 10], dtype=int64),\n",
       "  array([ 8, 10, 10,  7, 10, 10,  7,  3,  8], dtype=int64),\n",
       "  array([ 8, 10,  4,  4,  8, 10,  8,  2,  1], dtype=int64),\n",
       "  array([10, 10, 10,  7, 10, 10,  8,  2,  1], dtype=int64),\n",
       "  array([10,  5,  7,  3,  3,  7,  3,  3,  8], dtype=int64),\n",
       "  array([ 6, 10,  5,  5,  4, 10,  6, 10,  1], dtype=int64),\n",
       "  array([6, 3, 4, 1, 5, 2, 3, 9, 1], dtype=int64),\n",
       "  array([10, 10,  7,  8,  7,  1, 10, 10,  3], dtype=int64),\n",
       "  array([ 5,  4,  6,  8,  4,  1,  8, 10,  1], dtype=int64),\n",
       "  array([10,  5, 10,  3,  5,  8,  7,  8,  3], dtype=int64),\n",
       "  array([10,  9,  7,  3,  4,  2,  7,  7,  1], dtype=int64),\n",
       "  array([ 8,  7,  8,  7,  5,  5,  5, 10,  2], dtype=int64),\n",
       "  array([ 7,  4,  5, 10,  2, 10,  3,  8,  2], dtype=int64),\n",
       "  array([ 5,  6,  5,  6, 10,  1,  3,  1,  1], dtype=int64),\n",
       "  array([ 7,  2,  4,  1,  6, 10,  5,  4,  3], dtype=int64),\n",
       "  array([10,  4,  4, 10,  6, 10,  5,  5,  1], dtype=int64),\n",
       "  array([2, 5, 3, 3, 6, 7, 7, 5, 1], dtype=int64),\n",
       "  array([ 3,  3,  5,  2,  3, 10,  7,  1,  1], dtype=int64),\n",
       "  array([9, 5, 5, 4, 4, 5, 4, 3, 3], dtype=int64),\n",
       "  array([7, 4, 6, 4, 6, 1, 4, 3, 1], dtype=int64),\n",
       "  array([ 7,  5,  6, 10,  5, 10,  7,  9,  4], dtype=int64),\n",
       "  array([7, 2, 4, 1, 3, 4, 3, 3, 1], dtype=int64),\n",
       "  array([10,  5,  8, 10,  3, 10,  5,  1,  3], dtype=int64),\n",
       "  array([10, 10, 10,  4,  8,  1,  8, 10,  1], dtype=int64),\n",
       "  array([6, 5, 4, 4, 3, 9, 7, 8, 3], dtype=int64),\n",
       "  array([10,  7,  7,  3,  8,  5,  7,  4,  3], dtype=int64),\n",
       "  array([ 8,  4,  5,  1,  2, 15,  7,  3,  1], dtype=int64),\n",
       "  array([ 5,  3,  5,  5,  3,  3,  4, 10,  1], dtype=int64),\n",
       "  array([3, 7, 7, 4, 4, 9, 4, 8, 1], dtype=int64),\n",
       "  array([ 5,  7, 10,  6,  5, 10,  7,  5,  1], dtype=int64),\n",
       "  array([10,  3,  6,  2,  3,  5,  4, 10,  2], dtype=int64),\n",
       "  array([ 5,  4,  6, 10,  2, 10,  4,  1,  1], dtype=int64),\n",
       "  array([8, 2, 4, 1, 5, 1, 5, 4, 4], dtype=int64),\n",
       "  array([7, 8, 3, 7, 4, 5, 7, 8, 2], dtype=int64),\n",
       "  array([4, 1, 1, 3, 1, 5, 2, 1, 1], dtype=int64),\n",
       "  array([ 6,  6,  6,  5,  4, 10,  7,  6,  2], dtype=int64),\n",
       "  array([10,  4,  5,  5,  5, 10,  4,  1,  1], dtype=int64),\n",
       "  array([10,  7,  7,  4,  5, 10,  5,  7,  2], dtype=int64),\n",
       "  array([ 8,  5,  5,  5,  2, 10,  4,  3,  1], dtype=int64),\n",
       "  array([10,  4,  3,  1,  3,  3,  6,  5,  2], dtype=int64),\n",
       "  array([10,  8,  4,  4,  4, 10,  3, 10,  4], dtype=int64),\n",
       "  array([ 7,  3,  2, 10,  5, 10,  5,  4,  4], dtype=int64),\n",
       "  array([4, 6, 6, 5, 7, 6, 7, 7, 3], dtype=int64),\n",
       "  array([10,  3,  3, 10,  2, 10,  7,  3,  3], dtype=int64),\n",
       "  array([10,  8,  7,  4,  3, 10,  7,  9,  1], dtype=int64),\n",
       "  array([ 6, 10, 10, 10,  4, 10,  7, 10,  1], dtype=int64),\n",
       "  array([10,  1,  1,  1,  2, 10,  5,  4,  1], dtype=int64),\n",
       "  array([ 8, 10,  3,  2,  6,  4,  3, 10,  1], dtype=int64),\n",
       "  array([ 8,  8,  9,  6,  6,  3, 10, 10,  1], dtype=int64),\n",
       "  array([ 5, 10, 10, 10, 10, 10, 10,  1,  1], dtype=int64),\n",
       "  array([ 7,  6,  4,  8, 10, 10,  9,  5,  3], dtype=int64),\n",
       "  array([ 8, 10,  5,  3,  8,  4,  4, 10,  3], dtype=int64),\n",
       "  array([10, 10,  8,  6,  4,  5,  8, 10,  1], dtype=int64),\n",
       "  array([ 8,  3,  5,  4,  5, 10,  1,  6,  2], dtype=int64),\n",
       "  array([ 9,  1,  2,  6,  4, 10,  7,  7,  2], dtype=int64),\n",
       "  array([ 6,  6,  7, 10,  3, 10,  8, 10,  2], dtype=int64),\n",
       "  array([7, 8, 7, 2, 4, 8, 3, 8, 2], dtype=int64),\n",
       "  array([ 4,  8,  8,  5,  4,  5, 10,  4,  1], dtype=int64),\n",
       "  array([9, 5, 8, 1, 2, 3, 2, 1, 5], dtype=int64),\n",
       "  array([ 5, 10, 10, 10,  5,  2,  8,  5,  1], dtype=int64),\n",
       "  array([10,  3,  3,  1,  2, 10,  7,  6,  1], dtype=int64),\n",
       "  array([10,  8,  8,  4, 10, 10,  8,  1,  1], dtype=int64),\n",
       "  array([ 8,  8,  7,  4, 10, 10,  7,  8,  7], dtype=int64),\n",
       "  array([ 5,  8,  4, 10,  5,  8,  9, 10,  1], dtype=int64),\n",
       "  array([ 5, 10, 10,  3,  7,  3,  8, 10,  2], dtype=int64),\n",
       "  array([ 5,  7,  4,  1,  6,  1,  7, 10,  3], dtype=int64),\n",
       "  array([ 6,  1,  3,  1,  4,  5,  5, 10,  1], dtype=int64),\n",
       "  array([ 9,  9, 10,  3,  6, 10,  7, 10,  6], dtype=int64),\n",
       "  array([ 5, 10, 10,  9,  6, 10,  7, 10,  5], dtype=int64),\n",
       "  array([ 2,  7, 10, 10,  7, 10,  4,  9,  4], dtype=int64),\n",
       "  array([ 5,  8,  7,  7, 10, 10,  5,  7,  1], dtype=int64),\n",
       "  array([10,  5,  5,  3,  6,  7,  7, 10,  1], dtype=int64),\n",
       "  array([6, 3, 2, 1, 3, 4, 4, 1, 1], dtype=int64),\n",
       "  array([ 8,  7,  8,  5, 10, 10,  7,  2,  1], dtype=int64),\n",
       "  array([10,  6,  5,  8,  5, 10,  8,  6,  1], dtype=int64),\n",
       "  array([10, 10, 10,  3, 10, 10,  9, 10,  1], dtype=int64),\n",
       "  array([4, 2, 3, 5, 3, 8, 7, 6, 1], dtype=int64),\n",
       "  array([10, 10, 10,  1,  6,  1,  2,  8,  1], dtype=int64),\n",
       "  array([7, 8, 7, 6, 4, 3, 8, 8, 4], dtype=int64),\n",
       "  array([ 8, 10, 10, 10,  6, 10, 10, 10,  1], dtype=int64),\n",
       "  array([ 8, 10,  8,  8,  4,  8,  7,  7,  1], dtype=int64),\n",
       "  array([10, 10, 10, 10, 10,  1,  8,  8,  8], dtype=int64),\n",
       "  array([ 9, 10, 10,  1, 10,  8,  3,  3,  1], dtype=int64),\n",
       "  array([ 5,  3,  5,  1,  8, 10,  5,  3,  1], dtype=int64),\n",
       "  array([7, 3, 4, 4, 3, 3, 3, 2, 7], dtype=int64),\n",
       "  array([ 5,  8,  8, 10,  5, 10,  8, 10,  3], dtype=int64),\n",
       "  array([10,  4,  6,  4,  5, 10,  7,  1,  1], dtype=int64),\n",
       "  array([ 9,  4,  5, 10,  6, 10,  4,  8,  1], dtype=int64),\n",
       "  array([ 8, 10, 10, 10,  7,  5,  4,  8,  7], dtype=int64),\n",
       "  array([10,  9,  8,  7,  6,  4,  7, 10,  3], dtype=int64),\n",
       "  array([ 8, 10, 10,  8,  7, 10,  9,  7,  1], dtype=int64),\n",
       "  array([ 6, 10,  7,  7,  6,  4,  8, 10,  2], dtype=int64),\n",
       "  array([10, 10, 10,  2, 10, 10,  5,  3,  3], dtype=int64),\n",
       "  array([ 8, 10, 10, 10,  8, 10, 10,  7,  3], dtype=int64),\n",
       "  array([10,  5,  7,  4,  4, 10,  8,  9,  1], dtype=int64),\n",
       "  array([3, 4, 5, 2, 6, 8, 4, 1, 1], dtype=int64),\n",
       "  array([10, 10, 10, 10,  5, 10, 10, 10,  7], dtype=int64),\n",
       "  array([10,  8, 10, 10,  6,  1,  3,  1, 10], dtype=int64),\n",
       "  array([ 1,  6,  8, 10,  8, 10,  5,  7,  1], dtype=int64),\n",
       "  array([ 5, 10, 10,  8,  5,  5,  7, 10,  1], dtype=int64),\n",
       "  array([ 9, 10, 10,  1, 10,  8,  3,  3,  1], dtype=int64)],\n",
       " 2: [array([4, 4, 2, 1, 2, 5, 2, 1, 2], dtype=int64),\n",
       "  array([2, 1, 1, 1, 2, 1, 3, 1, 1], dtype=int64),\n",
       "  array([3, 1, 1, 1, 2, 1, 2, 1, 1], dtype=int64),\n",
       "  array([8, 2, 1, 1, 5, 1, 1, 1, 1], dtype=int64),\n",
       "  array([5, 1, 1, 1, 2, 1, 1, 1, 1], dtype=int64),\n",
       "  array([1, 2, 3, 1, 2, 1, 2, 1, 1], dtype=int64),\n",
       "  array([ 1,  1,  3,  1,  2, 15,  2,  1,  1], dtype=int64),\n",
       "  array([4, 1, 1, 1, 2, 1, 2, 1, 1], dtype=int64),\n",
       "  array([4, 2, 1, 1, 2, 1, 1, 1, 1], dtype=int64),\n",
       "  array([1, 1, 1, 1, 2, 1, 1, 1, 1], dtype=int64),\n",
       "  array([8, 3, 3, 1, 2, 2, 3, 2, 1], dtype=int64),\n",
       "  array([3, 1, 1, 1, 2, 1, 1, 1, 1], dtype=int64),\n",
       "  array([1, 1, 1, 1, 2, 1, 3, 1, 1], dtype=int64),\n",
       "  array([8, 4, 6, 3, 3, 1, 4, 3, 1], dtype=int64),\n",
       "  array([2, 1, 1, 1, 2, 1, 1, 1, 1], dtype=int64),\n",
       "  array([1, 2, 3, 1, 2, 1, 1, 1, 1], dtype=int64),\n",
       "  array([5, 2, 2, 4, 2, 4, 1, 1, 1], dtype=int64),\n",
       "  array([3, 1, 1, 1, 2, 1, 3, 1, 1], dtype=int64),\n",
       "  array([1, 1, 1, 1, 2, 2, 2, 1, 1], dtype=int64),\n",
       "  array([4, 1, 1, 1, 2, 1, 3, 2, 1], dtype=int64),\n",
       "  array([3, 2, 2, 1, 4, 3, 2, 1, 1], dtype=int64),\n",
       "  array([ 5,  4,  3,  1,  2, 15,  2,  3,  1], dtype=int64),\n",
       "  array([1, 1, 1, 1, 2, 5, 1, 1, 1], dtype=int64),\n",
       "  array([4, 3, 2, 1, 3, 1, 2, 1, 1], dtype=int64),\n",
       "  array([3, 1, 2, 1, 2, 1, 3, 1, 1], dtype=int64),\n",
       "  array([3, 1, 1, 1, 3, 2, 1, 1, 1], dtype=int64),\n",
       "  array([5, 1, 1, 1, 3, 2, 2, 2, 1], dtype=int64),\n",
       "  array([1, 1, 1, 1, 1, 1, 3, 1, 1], dtype=int64),\n",
       "  array([3, 1, 1, 1, 2, 1, 2, 1, 1], dtype=int64),\n",
       "  array([4, 1, 1, 1, 2, 1, 3, 1, 1], dtype=int64),\n",
       "  array([1, 1, 3, 1, 2, 1, 1, 1, 1], dtype=int64),\n",
       "  array([1, 3, 3, 2, 2, 1, 7, 2, 1], dtype=int64),\n",
       "  array([3, 1, 1, 1, 2, 1, 1, 1, 1], dtype=int64),\n",
       "  array([1, 1, 1, 1, 2, 1, 2, 1, 1], dtype=int64),\n",
       "  array([6, 1, 1, 1, 2, 1, 2, 1, 1], dtype=int64),\n",
       "  array([6, 1, 1, 1, 2, 1, 3, 1, 1], dtype=int64),\n",
       "  array([4, 1, 1, 3, 2, 1, 1, 1, 1], dtype=int64),\n",
       "  array([4, 1, 1, 1, 2, 1, 2, 1, 1], dtype=int64),\n",
       "  array([5, 1, 1, 4, 2, 1, 3, 1, 1], dtype=int64),\n",
       "  array([1, 1, 3, 1, 1, 1, 2, 1, 1], dtype=int64),\n",
       "  array([4, 1, 2, 1, 2, 1, 2, 1, 1], dtype=int64),\n",
       "  array([1, 2, 2, 1, 2, 1, 1, 1, 1], dtype=int64),\n",
       "  array([1, 1, 1, 1, 2, 1, 3, 1, 1], dtype=int64),\n",
       "  array([ 6,  3,  3,  5,  3, 10,  3,  5,  3], dtype=int64),\n",
       "  array([3, 2, 2, 3, 2, 3, 3, 1, 1], dtype=int64),\n",
       "  array([4, 1, 1, 3, 1, 1, 2, 1, 1], dtype=int64),\n",
       "  array([4, 1, 1, 1, 2, 1, 2, 1, 1], dtype=int64),\n",
       "  array([3, 1, 1, 1, 2, 1, 3, 1, 1], dtype=int64),\n",
       "  array([3, 1, 1, 1, 2, 1, 2, 1, 1], dtype=int64),\n",
       "  array([4, 1, 1, 1, 2, 1, 2, 1, 1], dtype=int64),\n",
       "  array([2, 1, 1, 1, 2, 1, 1, 1, 1], dtype=int64),\n",
       "  array([4, 1, 1, 1, 2, 1, 3, 1, 1], dtype=int64),\n",
       "  array([5, 1, 1, 1, 2, 1, 2, 1, 1], dtype=int64),\n",
       "  array([3, 1, 1, 1, 2, 1, 2, 1, 1], dtype=int64),\n",
       "  array([2, 1, 1, 1, 2, 1, 2, 1, 1], dtype=int64),\n",
       "  array([5, 7, 7, 1, 5, 8, 3, 4, 1], dtype=int64),\n",
       "  array([1, 1, 1, 1, 2, 1, 2, 1, 2], dtype=int64),\n",
       "  array([4, 1, 1, 1, 2, 1, 1, 1, 1], dtype=int64),\n",
       "  array([3, 3, 2, 1, 3, 1, 3, 6, 1], dtype=int64),\n",
       "  array([1, 1, 1, 1, 2, 1, 3, 1, 1], dtype=int64),\n",
       "  array([5, 1, 1, 6, 3, 1, 2, 1, 1], dtype=int64),\n",
       "  array([1, 1, 1, 1, 2, 1, 2, 1, 1], dtype=int64),\n",
       "  array([5, 1, 1, 1, 1, 1, 3, 1, 1], dtype=int64),\n",
       "  array([1, 1, 1, 1, 2, 1, 2, 1, 1], dtype=int64),\n",
       "  array([1, 1, 1, 1, 2, 1, 1, 1, 8], dtype=int64),\n",
       "  array([3, 1, 1, 1, 2, 1, 1, 1, 1], dtype=int64),\n",
       "  array([1, 1, 1, 1, 2, 1, 2, 1, 1], dtype=int64),\n",
       "  array([1, 1, 1, 1, 1, 1, 1, 1, 1], dtype=int64),\n",
       "  array([5, 2, 4, 1, 1, 1, 1, 1, 1], dtype=int64),\n",
       "  array([1, 1, 1, 1, 1, 1, 1, 1, 1], dtype=int64),\n",
       "  array([2, 3, 1, 1, 2, 1, 2, 1, 1], dtype=int64),\n",
       "  array([1, 1, 1, 1, 1, 1, 3, 1, 1], dtype=int64),\n",
       "  array([1, 2, 2, 1, 2, 1, 1, 1, 1], dtype=int64),\n",
       "  array([4, 1, 1, 1, 2, 1, 2, 1, 1], dtype=int64),\n",
       "  array([1, 1, 1, 1, 5, 1, 3, 1, 1], dtype=int64),\n",
       "  array([5, 1, 1, 1, 2, 1, 1, 1, 1], dtype=int64),\n",
       "  array([1, 1, 1, 1, 1, 1, 1, 1, 1], dtype=int64),\n",
       "  array([5, 1, 2, 1, 2, 1, 3, 1, 1], dtype=int64),\n",
       "  array([1, 1, 1, 1, 2, 1, 3, 1, 1], dtype=int64),\n",
       "  array([5, 2, 1, 1, 2, 1, 1, 1, 1], dtype=int64),\n",
       "  array([3, 1, 1, 1, 1, 1, 2, 1, 1], dtype=int64),\n",
       "  array([4, 1, 1, 1, 2, 1, 1, 1, 1], dtype=int64),\n",
       "  array([2, 1, 1, 1, 2, 1, 2, 1, 1], dtype=int64),\n",
       "  array([1, 1, 3, 1, 2, 1, 1, 1, 1], dtype=int64),\n",
       "  array([2, 1, 1, 1, 2, 1, 2, 2, 1], dtype=int64),\n",
       "  array([3, 1, 1, 1, 2, 5, 5, 1, 1], dtype=int64),\n",
       "  array([3, 1, 1, 1, 1, 1, 1, 1, 1], dtype=int64),\n",
       "  array([1, 1, 3, 2, 2, 1, 3, 1, 1], dtype=int64),\n",
       "  array([5, 3, 4, 3, 4, 5, 4, 7, 1], dtype=int64),\n",
       "  array([1, 1, 1, 1, 2, 1, 2, 1, 1], dtype=int64),\n",
       "  array([1, 1, 1, 1, 1, 1, 3, 1, 1], dtype=int64),\n",
       "  array([5, 1, 3, 1, 2, 1, 2, 1, 1], dtype=int64),\n",
       "  array([3, 1, 1, 1, 2, 1, 1, 1, 1], dtype=int64),\n",
       "  array([1, 1, 1, 1, 2, 1, 3, 1, 1], dtype=int64),\n",
       "  array([1, 1, 1, 1, 2, 1, 1, 1, 1], dtype=int64),\n",
       "  array([3, 1, 1, 3, 8, 1, 5, 8, 1], dtype=int64),\n",
       "  array([1, 1, 1, 1, 1, 1, 2, 1, 1], dtype=int64),\n",
       "  array([3, 1, 1, 1, 2, 1, 1, 1, 1], dtype=int64),\n",
       "  array([4, 1, 1, 1, 3, 1, 1, 1, 1], dtype=int64),\n",
       "  array([ 5,  4,  4,  5,  7, 10,  3,  2,  1], dtype=int64),\n",
       "  array([5, 2, 2, 2, 1, 1, 2, 1, 1], dtype=int64),\n",
       "  array([4, 1, 2, 1, 2, 1, 1, 1, 1], dtype=int64),\n",
       "  array([3, 1, 1, 1, 1, 1, 2, 1, 1], dtype=int64),\n",
       "  array([3, 3, 1, 1, 2, 1, 1, 1, 1], dtype=int64),\n",
       "  array([3, 1, 1, 1, 2, 1, 1, 1, 1], dtype=int64),\n",
       "  array([ 1,  1,  1,  1, 10,  1,  1,  1,  1], dtype=int64),\n",
       "  array([3, 1, 1, 1, 2, 1, 2, 1, 1], dtype=int64),\n",
       "  array([3, 1, 1, 3, 2, 1, 1, 1, 1], dtype=int64),\n",
       "  array([1, 2, 1, 3, 2, 1, 2, 1, 1], dtype=int64),\n",
       "  array([3, 4, 5, 3, 7, 3, 4, 6, 1], dtype=int64),\n",
       "  array([6, 9, 7, 5, 5, 8, 4, 2, 1], dtype=int64),\n",
       "  array([4, 1, 3, 3, 2, 1, 1, 1, 1], dtype=int64),\n",
       "  array([1, 1, 1, 1, 2, 1, 3, 1, 1], dtype=int64),\n",
       "  array([3, 1, 1, 1, 2, 1, 3, 2, 1], dtype=int64),\n",
       "  array([5, 1, 1, 1, 2, 2, 2, 1, 1], dtype=int64),\n",
       "  array([3, 2, 1, 1, 1, 1, 2, 1, 1], dtype=int64),\n",
       "  array([5, 1, 1, 1, 2, 1, 1, 1, 1], dtype=int64),\n",
       "  array([5, 1, 1, 1, 2, 1, 2, 2, 1], dtype=int64),\n",
       "  array([5, 1, 1, 1, 2, 1, 3, 1, 1], dtype=int64),\n",
       "  array([3, 1, 1, 2, 3, 4, 1, 1, 1], dtype=int64),\n",
       "  array([3, 1, 1, 1, 2, 1, 2, 1, 1], dtype=int64),\n",
       "  array([1, 1, 2, 2, 2, 1, 3, 1, 1], dtype=int64),\n",
       "  array([ 4,  6,  5,  6,  7, 15,  4,  9,  1], dtype=int64),\n",
       "  array([4, 4, 4, 2, 2, 3, 2, 1, 1], dtype=int64),\n",
       "  array([1, 2, 2, 1, 2, 1, 2, 1, 1], dtype=int64),\n",
       "  array([1, 1, 1, 1, 1, 1, 3, 1, 1], dtype=int64),\n",
       "  array([4, 1, 1, 1, 2, 1, 1, 1, 1], dtype=int64),\n",
       "  array([1, 1, 1, 1, 2, 1, 3, 2, 1], dtype=int64),\n",
       "  array([5, 1, 1, 1, 2, 1, 1, 1, 1], dtype=int64),\n",
       "  array([3, 1, 1, 1, 2, 1, 3, 1, 1], dtype=int64),\n",
       "  array([1, 1, 1, 3, 2, 1, 1, 1, 1], dtype=int64),\n",
       "  array([4, 1, 1, 1, 2, 1, 3, 1, 1], dtype=int64),\n",
       "  array([6, 1, 1, 3, 2, 1, 1, 1, 1], dtype=int64),\n",
       "  array([1, 1, 4, 1, 2, 1, 2, 1, 1], dtype=int64),\n",
       "  array([3, 3, 2, 2, 3, 1, 1, 2, 3], dtype=int64),\n",
       "  array([6, 3, 3, 3, 3, 2, 6, 1, 1], dtype=int64),\n",
       "  array([1, 1, 1, 1, 2, 1, 2, 1, 1], dtype=int64),\n",
       "  array([ 5,  1,  1,  1,  2, 15,  3,  1,  1], dtype=int64),\n",
       "  array([3, 1, 1, 1, 2, 1, 2, 1, 1], dtype=int64),\n",
       "  array([4, 1, 1, 1, 2, 1, 2, 1, 1], dtype=int64),\n",
       "  array([1, 1, 1, 1, 2, 1, 3, 1, 1], dtype=int64),\n",
       "  array([2, 1, 2, 1, 2, 1, 3, 1, 1], dtype=int64),\n",
       "  array([3, 2, 1, 2, 2, 1, 3, 1, 1], dtype=int64),\n",
       "  array([2, 1, 1, 1, 2, 1, 2, 1, 1], dtype=int64),\n",
       "  array([3, 1, 2, 1, 2, 1, 2, 1, 1], dtype=int64),\n",
       "  array([6, 1, 1, 1, 2, 1, 3, 1, 1], dtype=int64),\n",
       "  array([ 1,  1,  1,  1,  1, 15,  2,  1,  1], dtype=int64),\n",
       "  array([3, 1, 1, 1, 2, 1, 2, 1, 1], dtype=int64),\n",
       "  array([1, 1, 1, 1, 2, 1, 3, 1, 1], dtype=int64),\n",
       "  array([3, 1, 4, 1, 2, 1, 1, 1, 1], dtype=int64),\n",
       "  array([2, 1, 1, 1, 2, 1, 1, 1, 5], dtype=int64),\n",
       "  array([5, 1, 2, 1, 2, 1, 1, 1, 1], dtype=int64),\n",
       "  array([6, 2, 3, 1, 2, 1, 1, 1, 1], dtype=int64),\n",
       "  array([2, 1, 1, 1, 2, 1, 2, 1, 1], dtype=int64),\n",
       "  array([2, 1, 1, 2, 3, 1, 2, 1, 1], dtype=int64),\n",
       "  array([4, 1, 1, 1, 3, 1, 2, 2, 1], dtype=int64),\n",
       "  array([3, 1, 1, 1, 2, 1, 2, 1, 1], dtype=int64),\n",
       "  array([4, 2, 1, 1, 2, 1, 2, 1, 1], dtype=int64),\n",
       "  array([1, 1, 1, 1, 2, 1, 2, 1, 1], dtype=int64),\n",
       "  array([1, 1, 1, 1, 2, 1, 3, 1, 1], dtype=int64),\n",
       "  array([2, 1, 1, 1, 2, 1, 1, 1, 1], dtype=int64),\n",
       "  array([2, 1, 1, 1, 2, 1, 2, 1, 1], dtype=int64),\n",
       "  array([5, 1, 1, 1, 2, 1, 3, 1, 2], dtype=int64),\n",
       "  array([1, 1, 2, 1, 2, 1, 2, 1, 1], dtype=int64),\n",
       "  array([1, 1, 1, 3, 2, 1, 1, 1, 1], dtype=int64),\n",
       "  array([4, 1, 1, 1, 2, 1, 3, 1, 1], dtype=int64),\n",
       "  array([ 3,  1,  4,  1,  2, 15,  3,  1,  1], dtype=int64),\n",
       "  array([1, 1, 1, 1, 1, 1, 3, 1, 1], dtype=int64),\n",
       "  array([3, 1, 1, 1, 2, 1, 3, 1, 1], dtype=int64),\n",
       "  array([2, 1, 1, 1, 2, 1, 3, 1, 1], dtype=int64),\n",
       "  array([3, 1, 1, 4, 3, 1, 2, 2, 1], dtype=int64),\n",
       "  array([4, 2, 1, 1, 2, 2, 3, 1, 1], dtype=int64),\n",
       "  array([1, 1, 3, 1, 2, 1, 2, 1, 1], dtype=int64),\n",
       "  array([2, 1, 1, 1, 2, 1, 3, 1, 1], dtype=int64),\n",
       "  array([4, 3, 3, 1, 2, 1, 3, 3, 1], dtype=int64),\n",
       "  array([1, 1, 1, 1, 2, 1, 2, 1, 1], dtype=int64),\n",
       "  array([5, 1, 1, 1, 2, 1, 2, 1, 1], dtype=int64),\n",
       "  array([2, 1, 1, 1, 1, 1, 2, 1, 1], dtype=int64),\n",
       "  array([1, 1, 1, 1, 2, 1, 2, 1, 1], dtype=int64),\n",
       "  array([1, 1, 1, 1, 2, 1, 2, 1, 1], dtype=int64),\n",
       "  array([4, 1, 2, 1, 2, 1, 3, 1, 1], dtype=int64),\n",
       "  array([1, 1, 1, 1, 2, 1, 1, 1, 1], dtype=int64),\n",
       "  array([6, 1, 1, 1, 2, 1, 3, 1, 1], dtype=int64),\n",
       "  array([3, 1, 1, 1, 2, 1, 2, 3, 1], dtype=int64),\n",
       "  array([5, 2, 2, 2, 2, 2, 3, 2, 2], dtype=int64),\n",
       "  array([5, 2, 2, 2, 2, 1, 2, 2, 1], dtype=int64),\n",
       "  array([5, 1, 3, 1, 2, 1, 2, 1, 1], dtype=int64),\n",
       "  array([5, 4, 5, 1, 8, 1, 3, 6, 1], dtype=int64),\n",
       "  array([2, 1, 1, 1, 2, 1, 1, 1, 1], dtype=int64),\n",
       "  array([1, 1, 1, 1, 2, 1, 2, 1, 1], dtype=int64),\n",
       "  array([2, 1, 1, 1, 1, 1, 1, 1, 1], dtype=int64),\n",
       "  array([1, 3, 1, 2, 2, 2, 5, 3, 2], dtype=int64),\n",
       "  array([1, 1, 1, 1, 2, 1, 3, 1, 1], dtype=int64),\n",
       "  array([1, 1, 1, 1, 2, 1, 3, 1, 1], dtype=int64),\n",
       "  array([4, 1, 1, 1, 2, 1, 1, 2, 1], dtype=int64),\n",
       "  array([4, 1, 1, 2, 2, 1, 2, 1, 1], dtype=int64),\n",
       "  array([5, 1, 1, 1, 2, 1, 2, 2, 1], dtype=int64),\n",
       "  array([1, 1, 1, 1, 2, 1, 2, 1, 1], dtype=int64),\n",
       "  array([1, 1, 1, 1, 2, 1, 2, 1, 1], dtype=int64),\n",
       "  array([3, 1, 1, 1, 2, 1, 2, 2, 1], dtype=int64),\n",
       "  array([1, 1, 1, 1, 2, 1, 1, 1, 1], dtype=int64),\n",
       "  array([2, 1, 1, 1, 2, 1, 2, 1, 1], dtype=int64),\n",
       "  array([4, 1, 1, 1, 2, 1, 1, 1, 1], dtype=int64),\n",
       "  array([3, 2, 2, 3, 2, 1, 1, 1, 1], dtype=int64),\n",
       "  array([3, 1, 1, 1, 2, 1, 1, 1, 1], dtype=int64),\n",
       "  array([4, 1, 2, 1, 2, 1, 2, 1, 1], dtype=int64),\n",
       "  array([1, 1, 1, 1, 1, 1, 3, 1, 1], dtype=int64),\n",
       "  array([1, 1, 1, 1, 2, 1, 1, 1, 1], dtype=int64),\n",
       "  array([3, 3, 2, 6, 3, 3, 3, 5, 1], dtype=int64),\n",
       "  array([1, 1, 1, 2, 2, 1, 2, 1, 1], dtype=int64),\n",
       "  array([3, 1, 1, 1, 2, 1, 2, 1, 1], dtype=int64),\n",
       "  array([3, 1, 1, 1, 2, 1, 2, 1, 1], dtype=int64),\n",
       "  array([2, 1, 1, 1, 2, 1, 1, 1, 1], dtype=int64),\n",
       "  array([4, 3, 1, 1, 2, 1, 4, 8, 1], dtype=int64),\n",
       "  array([ 3,  1,  1,  1,  2, 15,  3,  1,  1], dtype=int64),\n",
       "  array([1, 1, 1, 1, 2, 1, 1, 1, 1], dtype=int64),\n",
       "  array([8, 4, 4, 5, 4, 7, 7, 8, 2], dtype=int64),\n",
       "  array([4, 1, 3, 1, 2, 1, 2, 1, 1], dtype=int64),\n",
       "  array([3, 1, 1, 1, 2, 1, 2, 1, 1], dtype=int64),\n",
       "  array([3, 1, 2, 1, 2, 1, 2, 1, 1], dtype=int64),\n",
       "  array([3, 1, 1, 1, 2, 1, 2, 1, 1], dtype=int64),\n",
       "  array([1, 1, 1, 1, 1, 1, 2, 1, 1], dtype=int64),\n",
       "  array([1, 1, 1, 1, 2, 1, 3, 1, 1], dtype=int64),\n",
       "  array([3, 1, 1, 1, 2, 1, 3, 1, 1], dtype=int64),\n",
       "  array([5, 1, 1, 1, 2, 1, 2, 1, 1], dtype=int64),\n",
       "  array([3, 1, 1, 1, 2, 1, 3, 1, 1], dtype=int64),\n",
       "  array([1, 3, 1, 1, 2, 1, 2, 2, 1], dtype=int64),\n",
       "  array([1, 1, 1, 1, 2, 1, 1, 1, 1], dtype=int64),\n",
       "  array([2, 1, 1, 1, 2, 1, 3, 1, 1], dtype=int64),\n",
       "  array([1, 1, 1, 1, 2, 1, 3, 1, 1], dtype=int64),\n",
       "  array([1, 1, 1, 1, 2, 1, 1, 1, 1], dtype=int64),\n",
       "  array([5, 1, 1, 3, 2, 1, 1, 1, 1], dtype=int64),\n",
       "  array([ 1,  1,  1,  1,  1, 15,  2,  1,  1], dtype=int64),\n",
       "  array([5, 1, 1, 1, 2, 1, 2, 1, 1], dtype=int64),\n",
       "  array([3, 1, 1, 1, 2, 1, 1, 1, 1], dtype=int64),\n",
       "  array([1, 1, 1, 1, 2, 1, 3, 1, 1], dtype=int64),\n",
       "  array([2, 1, 1, 2, 2, 1, 3, 1, 1], dtype=int64),\n",
       "  array([5, 1, 1, 2, 2, 1, 2, 1, 1], dtype=int64),\n",
       "  array([6, 2, 1, 1, 1, 1, 7, 1, 1], dtype=int64),\n",
       "  array([3, 2, 1, 1, 2, 2, 3, 1, 1], dtype=int64),\n",
       "  array([4, 4, 4, 4, 6, 5, 7, 3, 1], dtype=int64),\n",
       "  array([1, 1, 1, 2, 1, 1, 1, 1, 1], dtype=int64),\n",
       "  array([4, 1, 1, 1, 2, 1, 2, 1, 1], dtype=int64),\n",
       "  array([1, 2, 1, 3, 2, 1, 1, 2, 1], dtype=int64),\n",
       "  array([1, 1, 1, 1, 2, 1, 1, 1, 1], dtype=int64),\n",
       "  array([3, 1, 1, 1, 2, 4, 1, 1, 1], dtype=int64),\n",
       "  array([1, 1, 1, 1, 2, 1, 1, 1, 1], dtype=int64),\n",
       "  array([1, 1, 1, 1, 2, 4, 1, 1, 1], dtype=int64),\n",
       "  array([3, 3, 2, 1, 2, 3, 3, 1, 1], dtype=int64),\n",
       "  array([5, 1, 1, 1, 2, 1, 2, 1, 1], dtype=int64),\n",
       "  array([ 1,  1,  1,  1,  1, 15,  1,  1,  1], dtype=int64),\n",
       "  array([5, 1, 1, 1, 2, 1, 2, 1, 1], dtype=int64),\n",
       "  array([5, 1, 1, 1, 2, 1, 1, 1, 1], dtype=int64),\n",
       "  array([3, 1, 1, 1, 2, 1, 2, 1, 1], dtype=int64),\n",
       "  array([5, 1, 1, 2, 2, 2, 3, 1, 1], dtype=int64),\n",
       "  array([1, 1, 1, 1, 2, 5, 5, 1, 1], dtype=int64),\n",
       "  array([3, 1, 1, 3, 1, 1, 3, 1, 1], dtype=int64),\n",
       "  array([6, 8, 8, 1, 3, 4, 3, 7, 1], dtype=int64),\n",
       "  array([3, 1, 2, 1, 2, 1, 2, 1, 1], dtype=int64),\n",
       "  array([3, 1, 1, 1, 2, 1, 1, 1, 1], dtype=int64),\n",
       "  array([2, 1, 1, 1, 2, 1, 2, 1, 1], dtype=int64),\n",
       "  array([1, 1, 1, 1, 2, 1, 1, 1, 1], dtype=int64),\n",
       "  array([5, 3, 3, 2, 3, 1, 3, 1, 1], dtype=int64),\n",
       "  array([4, 1, 1, 1, 2, 1, 3, 1, 1], dtype=int64),\n",
       "  array([5, 1, 1, 1, 2, 1, 2, 1, 1], dtype=int64),\n",
       "  array([5, 1, 1, 3, 2, 1, 1, 1, 1], dtype=int64),\n",
       "  array([1, 1, 1, 1, 2, 1, 1, 1, 1], dtype=int64),\n",
       "  array([2, 1, 1, 1, 3, 1, 2, 1, 1], dtype=int64),\n",
       "  array([3, 1, 1, 1, 2, 5, 1, 1, 1], dtype=int64),\n",
       "  array([2, 1, 1, 1, 2, 1, 1, 1, 1], dtype=int64),\n",
       "  array([5, 1, 3, 1, 2, 1, 1, 1, 1], dtype=int64),\n",
       "  array([4, 1, 1, 1, 2, 1, 2, 1, 1], dtype=int64),\n",
       "  array([1, 1, 1, 1, 2, 1, 1, 1, 1], dtype=int64),\n",
       "  array([2, 1, 1, 2, 2, 1, 1, 1, 1], dtype=int64),\n",
       "  array([4, 1, 4, 1, 2, 1, 1, 1, 1], dtype=int64),\n",
       "  array([ 6,  6,  6,  9,  6, 15,  7,  8,  1], dtype=int64),\n",
       "  array([5, 1, 1, 1, 2, 1, 1, 1, 1], dtype=int64),\n",
       "  array([3, 1, 1, 1, 2, 1, 1, 1, 1], dtype=int64),\n",
       "  array([4, 1, 1, 1, 2, 1, 1, 1, 1], dtype=int64),\n",
       "  array([6, 1, 3, 1, 2, 1, 3, 1, 1], dtype=int64),\n",
       "  array([5, 1, 1, 1, 2, 1, 2, 1, 1], dtype=int64),\n",
       "  array([4, 1, 1, 1, 1, 1, 2, 1, 1], dtype=int64),\n",
       "  array([1, 1, 1, 1, 2, 1, 1, 1, 1], dtype=int64),\n",
       "  array([1, 1, 1, 1, 3, 1, 1, 1, 1], dtype=int64),\n",
       "  array([1, 1, 1, 1, 2, 1, 2, 1, 1], dtype=int64),\n",
       "  array([5, 1, 1, 1, 2, 1, 2, 2, 1], dtype=int64),\n",
       "  array([1, 1, 1, 1, 2, 1, 3, 1, 1], dtype=int64),\n",
       "  array([5, 2, 2, 2, 3, 1, 1, 3, 1], dtype=int64),\n",
       "  array([3, 2, 2, 2, 2, 1, 3, 2, 1], dtype=int64),\n",
       "  array([1, 1, 1, 1, 4, 3, 1, 1, 1], dtype=int64),\n",
       "  array([5, 3, 4, 1, 4, 1, 3, 1, 1], dtype=int64),\n",
       "  array([3, 1, 1, 1, 2, 1, 3, 1, 1], dtype=int64),\n",
       "  array([1, 1, 1, 1, 3, 2, 2, 1, 1], dtype=int64),\n",
       "  array([3, 1, 1, 1, 2, 3, 3, 1, 1], dtype=int64),\n",
       "  array([3, 1, 1, 1, 2, 1, 2, 1, 1], dtype=int64),\n",
       "  array([4, 1, 1, 1, 2, 3, 1, 1, 1], dtype=int64),\n",
       "  array([2, 3, 1, 1, 3, 1, 1, 1, 1], dtype=int64),\n",
       "  array([1, 1, 1, 1, 2, 1, 2, 3, 1], dtype=int64),\n",
       "  array([1, 1, 1, 1, 1, 1, 1, 3, 1], dtype=int64),\n",
       "  array([3, 1, 1, 1, 2, 1, 3, 1, 1], dtype=int64),\n",
       "  array([2, 3, 1, 1, 5, 1, 1, 1, 1], dtype=int64),\n",
       "  array([3, 2, 1, 1, 2, 1, 2, 2, 1], dtype=int64),\n",
       "  array([1, 1, 1, 1, 2, 1, 1, 1, 1], dtype=int64),\n",
       "  array([1, 1, 1, 1, 2, 1, 3, 1, 1], dtype=int64),\n",
       "  array([1, 1, 1, 2, 2, 1, 3, 1, 1], dtype=int64),\n",
       "  array([5, 1, 1, 1, 2, 1, 3, 1, 1], dtype=int64),\n",
       "  array([1, 1, 1, 1, 2, 1, 1, 1, 1], dtype=int64),\n",
       "  array([4, 1, 1, 1, 2, 1, 3, 2, 1], dtype=int64),\n",
       "  array([1, 1, 1, 1, 2, 3, 3, 1, 1], dtype=int64),\n",
       "  array([1, 1, 1, 1, 2, 1, 2, 1, 1], dtype=int64),\n",
       "  array([3, 1, 1, 1, 2, 1, 2, 1, 1], dtype=int64),\n",
       "  array([1, 1, 1, 1, 2, 1, 1, 1, 1], dtype=int64),\n",
       "  array([2, 1, 1, 1, 1, 1, 3, 1, 1], dtype=int64),\n",
       "  array([3, 1, 3, 1, 3, 4, 1, 1, 1], dtype=int64),\n",
       "  array([1, 1, 2, 1, 2, 2, 4, 2, 1], dtype=int64),\n",
       "  array([3, 1, 1, 1, 2, 1, 2, 1, 1], dtype=int64),\n",
       "  array([5, 1, 1, 1, 2, 1, 1, 1, 1], dtype=int64),\n",
       "  array([2, 1, 1, 1, 2, 1, 1, 1, 1], dtype=int64),\n",
       "  array([3, 1, 1, 1, 2, 1, 1, 1, 1], dtype=int64),\n",
       "  array([1, 1, 1, 1, 2, 1, 1, 1, 1], dtype=int64),\n",
       "  array([4, 1, 1, 1, 2, 1, 3, 1, 1], dtype=int64),\n",
       "  array([1, 1, 1, 1, 2, 1, 1, 1, 1], dtype=int64),\n",
       "  array([5, 3, 3, 1, 2, 1, 2, 1, 1], dtype=int64),\n",
       "  array([1, 1, 1, 1, 2, 1, 3, 1, 1], dtype=int64),\n",
       "  array([1, 1, 1, 1, 2, 5, 1, 1, 1], dtype=int64),\n",
       "  array([5, 1, 4, 1, 2, 1, 3, 2, 1], dtype=int64),\n",
       "  array([1, 1, 1, 1, 2, 1, 1, 1, 1], dtype=int64),\n",
       "  array([3, 1, 1, 1, 2, 1, 2, 1, 1], dtype=int64),\n",
       "  array([4, 1, 1, 1, 2, 2, 3, 2, 1], dtype=int64),\n",
       "  array([5, 3, 6, 1, 2, 1, 1, 1, 1], dtype=int64),\n",
       "  array([4, 1, 1, 1, 2, 1, 1, 1, 1], dtype=int64),\n",
       "  array([1, 1, 1, 1, 1, 1, 2, 1, 1], dtype=int64),\n",
       "  array([1, 1, 1, 1, 1, 1, 3, 1, 1], dtype=int64),\n",
       "  array([5, 1, 1, 1, 2, 1, 2, 1, 1], dtype=int64),\n",
       "  array([2, 2, 2, 1, 1, 1, 7, 1, 1], dtype=int64),\n",
       "  array([4, 1, 1, 1, 2, 1, 3, 1, 1], dtype=int64),\n",
       "  array([7, 1, 2, 3, 2, 1, 2, 1, 1], dtype=int64),\n",
       "  array([4, 2, 4, 3, 2, 2, 2, 1, 1], dtype=int64),\n",
       "  array([1, 1, 1, 1, 2, 1, 2, 1, 1], dtype=int64),\n",
       "  array([3, 1, 1, 1, 2, 2, 3, 1, 1], dtype=int64),\n",
       "  array([3, 1, 1, 1, 2, 1, 3, 1, 1], dtype=int64),\n",
       "  array([5, 1, 1, 3, 4, 1, 3, 2, 1], dtype=int64),\n",
       "  array([2, 1, 1, 1, 2, 1, 1, 1, 1], dtype=int64),\n",
       "  array([5, 1, 2, 1, 2, 1, 3, 1, 1], dtype=int64),\n",
       "  array([4, 1, 1, 1, 1, 1, 2, 1, 1], dtype=int64),\n",
       "  array([4, 1, 1, 1, 2, 1, 1, 1, 1], dtype=int64),\n",
       "  array([ 1,  1,  2,  1,  3, 15,  1,  1,  1], dtype=int64),\n",
       "  array([4, 1, 1, 1, 2, 1, 2, 1, 1], dtype=int64),\n",
       "  array([3, 1, 1, 2, 2, 1, 1, 1, 1], dtype=int64),\n",
       "  array([5, 1, 1, 1, 2, 1, 3, 1, 1], dtype=int64),\n",
       "  array([2, 1, 1, 1, 2, 1, 2, 1, 1], dtype=int64),\n",
       "  array([3, 1, 1, 1, 2, 1, 1, 1, 1], dtype=int64),\n",
       "  array([4, 1, 1, 1, 2, 1, 1, 1, 1], dtype=int64),\n",
       "  array([4, 1, 1, 1, 2, 1, 3, 1, 1], dtype=int64),\n",
       "  array([1, 1, 1, 2, 1, 3, 1, 1, 7], dtype=int64),\n",
       "  array([3, 1, 1, 1, 1, 1, 2, 1, 1], dtype=int64),\n",
       "  array([3, 1, 1, 3, 2, 1, 2, 1, 1], dtype=int64),\n",
       "  array([5, 1, 1, 6, 3, 1, 1, 1, 1], dtype=int64),\n",
       "  array([ 1,  1,  1,  1,  2, 15,  2,  1,  1], dtype=int64),\n",
       "  array([4, 1, 1, 1, 2, 3, 2, 1, 1], dtype=int64),\n",
       "  array([2, 1, 1, 1, 2, 1, 3, 1, 1], dtype=int64),\n",
       "  array([1, 1, 1, 1, 2, 1, 3, 1, 1], dtype=int64),\n",
       "  array([ 1,  1,  1,  1,  2, 10,  3,  1,  1], dtype=int64),\n",
       "  array([1, 1, 1, 1, 2, 1, 1, 1, 1], dtype=int64),\n",
       "  array([1, 1, 1, 1, 2, 1, 1, 1, 1], dtype=int64),\n",
       "  array([3, 1, 1, 1, 2, 1, 2, 1, 2], dtype=int64),\n",
       "  array([ 3,  1,  3,  1,  2, 15,  2,  1,  1], dtype=int64),\n",
       "  array([1, 2, 3, 1, 2, 1, 3, 1, 1], dtype=int64),\n",
       "  array([2, 1, 1, 1, 2, 1, 3, 1, 1], dtype=int64),\n",
       "  array([3, 1, 1, 1, 1, 1, 2, 1, 1], dtype=int64),\n",
       "  array([1, 1, 1, 1, 2, 1, 1, 1, 1], dtype=int64),\n",
       "  array([2, 1, 1, 1, 2, 1, 3, 1, 1], dtype=int64),\n",
       "  array([ 5,  1,  2, 10,  4,  5,  2,  1,  1], dtype=int64),\n",
       "  array([1, 1, 1, 1, 2, 1, 3, 1, 1], dtype=int64),\n",
       "  array([3, 1, 1, 2, 2, 1, 1, 1, 1], dtype=int64),\n",
       "  array([3, 2, 2, 1, 2, 1, 2, 3, 1], dtype=int64),\n",
       "  array([5, 1, 3, 1, 2, 1, 2, 1, 1], dtype=int64)]}"
      ]
     },
     "execution_count": 16,
     "metadata": {},
     "output_type": "execute_result"
    }
   ],
   "source": [
    "datas"
   ]
  },
  {
   "cell_type": "code",
   "execution_count": 17,
   "metadata": {},
   "outputs": [
    {
     "data": {
      "text/plain": [
       "0.9785714285714285"
      ]
     },
     "execution_count": 17,
     "metadata": {},
     "output_type": "execute_result"
    }
   ],
   "source": [
    "c=0\n",
    "for i in range(x_ts.shape[0]):\n",
    "    if knn(datas,x_ts.iloc[i])==y_ts.iloc[i]:\n",
    "        c+=1\n",
    "c/len(x_ts)"
   ]
  },
  {
   "cell_type": "code",
   "execution_count": 18,
   "metadata": {},
   "outputs": [],
   "source": [
    "from sklearn.metrics import confusion_matrix"
   ]
  },
  {
   "cell_type": "code",
   "execution_count": 19,
   "metadata": {},
   "outputs": [
    {
     "data": {
      "text/plain": [
       "array([[80,  0],\n",
       "       [ 3, 57]], dtype=int64)"
      ]
     },
     "execution_count": 19,
     "metadata": {},
     "output_type": "execute_result"
    }
   ],
   "source": [
    "prd=[knn(datas,x_ts.iloc[i]) for i in range(x_ts.shape[0]) ]\n",
    "confusion_matrix(y_ts,prd)"
   ]
  },
  {
   "cell_type": "code",
   "execution_count": 20,
   "metadata": {},
   "outputs": [],
   "source": [
    "from sklearn.metrics import classification_report"
   ]
  },
  {
   "cell_type": "code",
   "execution_count": 21,
   "metadata": {},
   "outputs": [
    {
     "name": "stdout",
     "output_type": "stream",
     "text": [
      "              precision    recall  f1-score   support\n",
      "\n",
      "           2       0.96      1.00      0.98        80\n",
      "           4       1.00      0.95      0.97        60\n",
      "\n",
      "    accuracy                           0.98       140\n",
      "   macro avg       0.98      0.97      0.98       140\n",
      "weighted avg       0.98      0.98      0.98       140\n",
      "\n"
     ]
    }
   ],
   "source": [
    "prd=[knn(datas,x_ts.iloc[i]) for i in range(x_ts.shape[0])]\n",
    "print(classification_report(y_ts,prd))"
   ]
  },
  {
   "cell_type": "code",
   "execution_count": 22,
   "metadata": {},
   "outputs": [],
   "source": [
    "import warnings\n",
    "class Knn:\n",
    "    def __init__(s,n=3):\n",
    "        if n%2==0:\n",
    "            warnings.warn(\"given n is even will converted to n-1\")\n",
    "            s.n=n-1\n",
    "        else:\n",
    "            s.n=n\n",
    "    def fit(s,x_tr,y_tr):\n",
    "        s.datas=dict.fromkeys(y_tr.unique())\n",
    "        for key in s.datas:\n",
    "            s.datas[key]=[]\n",
    "        for i in range(x_tr.shape[0]):\n",
    "            s.datas[y_tr.iloc[i]].append(x_tr.iloc[i].values)\n",
    "    def predict(s,prd):\n",
    "        d=[]\n",
    "        for key in s.datas:\n",
    "            for points in s.datas[key]:\n",
    "                d.append((euclidean(points,prd),key))\n",
    "        v=sorted(d)[:s.n]\n",
    "        v=[i[1] for i in v]\n",
    "        x=dict(pd.Series(v).value_counts())\n",
    "        return max(x,key=x.get)\n",
    "    def score(s,x_ts,y_ts):\n",
    "        c=0\n",
    "        for i in range(x_ts.shape[0]):\n",
    "            if s.predict(x_ts.iloc[i])==y_ts.iloc[i]:\n",
    "                c+=1\n",
    "        return c/len(x_ts)  "
   ]
  },
  {
   "cell_type": "code",
   "execution_count": 23,
   "metadata": {},
   "outputs": [
    {
     "name": "stderr",
     "output_type": "stream",
     "text": [
      "c:\\users\\abhi singh\\appdata\\local\\programs\\python\\python37\\lib\\site-packages\\ipykernel_launcher.py:5: UserWarning: given n is even will converted to n-1\n",
      "  \"\"\"\n"
     ]
    },
    {
     "data": {
      "text/plain": [
       "0.9785714285714285"
      ]
     },
     "execution_count": 23,
     "metadata": {},
     "output_type": "execute_result"
    }
   ],
   "source": [
    "alg=Knn(4)\n",
    "alg.fit(x_tr,y_tr)\n",
    "alg.score(x_ts,y_ts)"
   ]
  },
  {
   "cell_type": "code",
   "execution_count": null,
   "metadata": {},
   "outputs": [],
   "source": []
  }
 ],
 "metadata": {
  "kernelspec": {
   "display_name": "Python 3",
   "language": "python",
   "name": "python3"
  },
  "language_info": {
   "codemirror_mode": {
    "name": "ipython",
    "version": 3
   },
   "file_extension": ".py",
   "mimetype": "text/x-python",
   "name": "python",
   "nbconvert_exporter": "python",
   "pygments_lexer": "ipython3",
   "version": "3.7.4"
  }
 },
 "nbformat": 4,
 "nbformat_minor": 2
}

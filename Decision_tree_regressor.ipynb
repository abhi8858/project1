{
 "cells": [
  {
   "cell_type": "code",
   "execution_count": 93,
   "metadata": {
    "collapsed": true
   },
   "outputs": [],
   "source": [
    "import pandas as pd\n",
    "import numpy as np\n",
    "import random as r"
   ]
  },
  {
   "cell_type": "code",
   "execution_count": 94,
   "metadata": {
    "collapsed": true
   },
   "outputs": [],
   "source": [
    "def tr_te_split(dtf, t_size):\n",
    "    t_size = int(t_size * dtf.shape[0]) # calculating the testsize according to the length of data\n",
    "    indexes = dtf.index.tolist() # we will take the index of the data-frame to randomize\n",
    "    t_index = r.sample(population=indexes, k=t_size) #using the random randomizing the indexes\n",
    "    test_df = dtf.loc[t_index]   #seprating the random test_data based on the random indexes obtained from t_index\n",
    "    train_df = dtf.drop(t_index)  # in train data we need to remove the t_index as it is in the test data\n",
    "    return train_df, test_df"
   ]
  },
  {
   "cell_type": "code",
   "execution_count": 95,
   "metadata": {
    "collapsed": true
   },
   "outputs": [],
   "source": [
    "data=pd.read_csv('https://archive.ics.uci.edu/ml/machine-learning-databases/auto-mpg/auto-mpg.data',sep='\\t')\n",
    "data=([np.array(i.split()) for i in data.iloc[:,0]])\n",
    "data=pd.DataFrame(data)\n",
    "data.columns=['mpg','cylinders','displacement','horsepower','weight','acceleration','model_year','origin']\n",
    "data['horsepower']=data.replace('?',np.mean(list(map(float,data[data['horsepower']!='?']['horsepower']))))\n",
    "for c in data.columns:\n",
    "    data[c]=data[c].astype(dtype='f')\n",
    "train, test = tr_te_split(data, t_size=0.2)"
   ]
  },
  {
   "cell_type": "code",
   "execution_count": 96,
   "metadata": {},
   "outputs": [
    {
     "data": {
      "text/html": [
       "<div>\n",
       "<style scoped>\n",
       "    .dataframe tbody tr th:only-of-type {\n",
       "        vertical-align: middle;\n",
       "    }\n",
       "\n",
       "    .dataframe tbody tr th {\n",
       "        vertical-align: top;\n",
       "    }\n",
       "\n",
       "    .dataframe thead th {\n",
       "        text-align: right;\n",
       "    }\n",
       "</style>\n",
       "<table border=\"1\" class=\"dataframe\">\n",
       "  <thead>\n",
       "    <tr style=\"text-align: right;\">\n",
       "      <th></th>\n",
       "      <th>mpg</th>\n",
       "      <th>cylinders</th>\n",
       "      <th>displacement</th>\n",
       "      <th>horsepower</th>\n",
       "      <th>weight</th>\n",
       "      <th>acceleration</th>\n",
       "      <th>model_year</th>\n",
       "      <th>origin</th>\n",
       "    </tr>\n",
       "  </thead>\n",
       "  <tbody>\n",
       "    <tr>\n",
       "      <th>0</th>\n",
       "      <td>15.0</td>\n",
       "      <td>8.0</td>\n",
       "      <td>350.0</td>\n",
       "      <td>15.0</td>\n",
       "      <td>3693.0</td>\n",
       "      <td>11.5</td>\n",
       "      <td>70.0</td>\n",
       "      <td>1.0</td>\n",
       "    </tr>\n",
       "    <tr>\n",
       "      <th>1</th>\n",
       "      <td>18.0</td>\n",
       "      <td>8.0</td>\n",
       "      <td>318.0</td>\n",
       "      <td>18.0</td>\n",
       "      <td>3436.0</td>\n",
       "      <td>11.0</td>\n",
       "      <td>70.0</td>\n",
       "      <td>1.0</td>\n",
       "    </tr>\n",
       "    <tr>\n",
       "      <th>3</th>\n",
       "      <td>17.0</td>\n",
       "      <td>8.0</td>\n",
       "      <td>302.0</td>\n",
       "      <td>17.0</td>\n",
       "      <td>3449.0</td>\n",
       "      <td>10.5</td>\n",
       "      <td>70.0</td>\n",
       "      <td>1.0</td>\n",
       "    </tr>\n",
       "    <tr>\n",
       "      <th>4</th>\n",
       "      <td>15.0</td>\n",
       "      <td>8.0</td>\n",
       "      <td>429.0</td>\n",
       "      <td>15.0</td>\n",
       "      <td>4341.0</td>\n",
       "      <td>10.0</td>\n",
       "      <td>70.0</td>\n",
       "      <td>1.0</td>\n",
       "    </tr>\n",
       "    <tr>\n",
       "      <th>5</th>\n",
       "      <td>14.0</td>\n",
       "      <td>8.0</td>\n",
       "      <td>454.0</td>\n",
       "      <td>14.0</td>\n",
       "      <td>4354.0</td>\n",
       "      <td>9.0</td>\n",
       "      <td>70.0</td>\n",
       "      <td>1.0</td>\n",
       "    </tr>\n",
       "  </tbody>\n",
       "</table>\n",
       "</div>"
      ],
      "text/plain": [
       "    mpg  cylinders  displacement  horsepower  weight  acceleration  \\\n",
       "0  15.0        8.0         350.0        15.0  3693.0          11.5   \n",
       "1  18.0        8.0         318.0        18.0  3436.0          11.0   \n",
       "3  17.0        8.0         302.0        17.0  3449.0          10.5   \n",
       "4  15.0        8.0         429.0        15.0  4341.0          10.0   \n",
       "5  14.0        8.0         454.0        14.0  4354.0           9.0   \n",
       "\n",
       "   model_year  origin  \n",
       "0        70.0     1.0  \n",
       "1        70.0     1.0  \n",
       "3        70.0     1.0  \n",
       "4        70.0     1.0  \n",
       "5        70.0     1.0  "
      ]
     },
     "execution_count": 96,
     "metadata": {},
     "output_type": "execute_result"
    }
   ],
   "source": [
    "train.head()"
   ]
  },
  {
   "cell_type": "code",
   "execution_count": null,
   "metadata": {
    "collapsed": true
   },
   "outputs": [],
   "source": []
  },
  {
   "cell_type": "code",
   "execution_count": 97,
   "metadata": {
    "collapsed": true
   },
   "outputs": [],
   "source": [
    "class Treeregressor:\n",
    "    def deviation(sf,count, l, r): \n",
    "        return (r/count) - (l/count)**2\n",
    "\n",
    "    def __init__(sf, train_x, train_y, indexes, depth=5):\n",
    "        sf.dx = train_x\n",
    "        sf.dy = train_y\n",
    "        sf.indexes = indexes\n",
    "        sf.depth = depth\n",
    "        sf.length = len(indexes)\n",
    "        sf.c = train_x.shape[1]\n",
    "        sf.val = np.mean(train_y[indexes])\n",
    "        sf.scr = float('inf')\n",
    "        sf.v_split()\n",
    "    \n",
    "    def find_split(sf, column_indexes):\n",
    "        column = sf.dx.values[sf.indexes,column_indexes]\n",
    "        target= sf.dy[sf.indexes]\n",
    "        sorted_indexes = np.argsort(column)\n",
    "        sorted_target = target[sorted_indexes]\n",
    "        sorted_column = column[sorted_indexes]\n",
    "        target_count = sf.length \n",
    "        target_sum = sorted_target.sum()\n",
    "        target_sqr_sum= (sorted_target**2).sum()\n",
    "        column_count = 0\n",
    "        column_sum = 0.\n",
    "        column_sqr_sum = 0.\n",
    "\n",
    "        for i in range(sf.length-sf.depth-1):\n",
    "            indivisual_x = sorted_column[i]\n",
    "            indivisual_y = sorted_target[i]\n",
    "            column_count += 1\n",
    "            target_count -= 1\n",
    "            column_sum += indivisual_y\n",
    "            target_sum -= indivisual_y\n",
    "            column_sqr_sum += indivisual_y**2\n",
    "            target_sqr_sum -= indivisual_y**2\n",
    "            if i<sf.depth or indivisual_x==sorted_column[i+1]:\n",
    "                continue\n",
    "\n",
    "            column_deviation = sf.deviation(column_count, column_sum, column_sqr_sum)\n",
    "            target_deviation = sf.deviation(target_count, target_sum, target_sqr_sum)\n",
    "            current_score = column_deviation*column_count/sf.length + target_deviation*target_count/sf.length\n",
    "            if current_score<sf.scr: \n",
    "                sf.column_indexes = column_indexes\n",
    "                sf.scr = current_score\n",
    "                sf.best_split = indivisual_x  \n",
    "    def v_split(sf):\n",
    "        for i in range(sf.c): \n",
    "            sf.find_split(i)\n",
    "\n",
    "        if sf.scr == float('inf'): \n",
    "            return\n",
    "        column = sf.dx.values[sf.indexes,sf.column_indexes]\n",
    "        left = np.nonzero(column<=sf.best_split)[0]\n",
    "        right = np.nonzero(column>sf.best_split)[0]\n",
    "        sf.lhs = Treeregressor(sf.dx, sf.dy, sf.indexes[left])\n",
    "        sf.rhs = Treeregressor(sf.dx, sf.dy, sf.indexes[right])\n",
    "\n",
    "    def prd(sf, prd_x):\n",
    "        if sf.scr == float('inf'): \n",
    "            return sf.val\n",
    "        if prd_x[sf.column_indexes]<=sf.best_split:\n",
    "            node = sf.lhs \n",
    "        else:\n",
    "            node=sf.rhs\n",
    "        return node.prd(prd_x) \n",
    "\n",
    "    def predict(sf, test_x):\n",
    "        return np.array([sf.prd(row) for row in test_x])\n",
    "    def coeff_determination(sf,y,regy): #r2_score by hand\n",
    "        sery=sum((y-regy)**2)\n",
    "        semy=sum((y-np.mean(y))**2)\n",
    "        return 1-(sery/semy)\n",
    "    def score(sf,x_test,y_test):\n",
    "        return sf.coeff_determination(y_test,sf.predict(x_test)),np.mean( (y_test-sf.predict(x_test))**2)\n"
   ]
  },
  {
   "cell_type": "code",
   "execution_count": 98,
   "metadata": {
    "collapsed": true
   },
   "outputs": [],
   "source": [
    "algo=Treeregressor(train.drop('mpg',axis=1),np.array(train['mpg']),np.arange(len(train['mpg'])))"
   ]
  },
  {
   "cell_type": "code",
   "execution_count": 99,
   "metadata": {
    "scrolled": true
   },
   "outputs": [
    {
     "data": {
      "text/plain": [
       "array([23.916666, 15.      , 26.9     , 26.9     , 13.      , 33.239998,\n",
       "       26.116667, 13.      , 21.857143, 15.8125  , 21.014286, 11.      ,\n",
       "       15.      , 21.014286, 31.136364, 13.      , 19.975   , 21.857143,\n",
       "       18.766666, 24.05    , 11.      , 27.15    , 14.      , 15.8125  ,\n",
       "       29.91    , 26.      , 18.766666, 19.975   , 13.      , 15.8125  ,\n",
       "       21.014286, 23.077778, 28.027271, 26.9     , 22.171429, 11.      ,\n",
       "       21.014286, 17.949999, 26.9     , 13.      , 23.916666, 23.077778,\n",
       "       28.975   , 15.8125  , 20.366667, 36.0375  , 21.014286, 32.10909 ,\n",
       "       32.10909 , 23.077778, 20.366667, 15.8125  , 26.116667, 31.136364,\n",
       "       13.      , 11.      , 25.      , 29.91    , 19.975   , 15.      ,\n",
       "       16.983334, 14.      , 23.916666, 14.      , 29.91    , 26.      ,\n",
       "       15.8125  , 11.      , 13.      , 16.983334, 15.      , 28.027271,\n",
       "       15.      , 18.766666, 29.91    , 19.      , 34.133335, 36.0375  ,\n",
       "       16.1     ], dtype=float32)"
      ]
     },
     "execution_count": 99,
     "metadata": {},
     "output_type": "execute_result"
    }
   ],
   "source": [
    "algo.predict(test.drop('mpg',axis=1).values)"
   ]
  },
  {
   "cell_type": "code",
   "execution_count": 100,
   "metadata": {},
   "outputs": [
    {
     "data": {
      "text/plain": [
       "(0.9978269914784383, 0.09743164479732513)"
      ]
     },
     "execution_count": 100,
     "metadata": {},
     "output_type": "execute_result"
    }
   ],
   "source": [
    "algo.score(test.drop('mpg',axis=1).values,test['mpg'])"
   ]
  },
  {
   "cell_type": "code",
   "execution_count": 101,
   "metadata": {
    "collapsed": true
   },
   "outputs": [],
   "source": [
    "import math\n",
    "import numpy as np\n",
    "\n",
    "class DReg():\n",
    "    def __init__(sf, train_x, train_y,cols, col_indexes,indexes,depth=10, mleaf=5):\n",
    "        sf.dx=train_x\n",
    "        sf.dy=train_y\n",
    "        sf.indexes = indexes\n",
    "        sf.depth = depth\n",
    "        sf.min_leaf=mleaf\n",
    "        sf.col_indexes = col_indexes\n",
    "        sf.cols = cols\n",
    "        sf.length = len(indexes)\n",
    "        sf.c = train_x.shape[1]\n",
    "        sf.val = np.mean(train_y[indexes])\n",
    "        sf.scr = float('inf')\n",
    "        sf.v_split()\n",
    "    def deviation(sf,count, l, r): \n",
    "        return (r/count) - (l/count)**2   \n",
    "    def v_split(sf):\n",
    "        for i in range(sf.c): \n",
    "            sf.find_split(i)\n",
    "\n",
    "        if sf.scr == float('inf') or sf.depth <= 0: \n",
    "            return\n",
    "        column = sf.dx.values[sf.indexes,sf.column_indexes]\n",
    "        left = np.nonzero(column<=sf.best_split)[0]\n",
    "        right = np.nonzero(column>sf.best_split)[0]\n",
    "        lf_idxs = np.random.permutation(sf.dx.shape[1])[:sf.cols]\n",
    "        rf_idxs = np.random.permutation(sf.dx.shape[1])[:sf.cols]\n",
    "        sf.lhs = DReg(sf.dx, sf.dy,sf.cols, lf_idxs, sf.indexes[left],sf.depth-1, sf.min_leaf)\n",
    "        sf.rhs = DReg(sf.dx, sf.dy,sf.cols, lf_idxs, sf.indexes[right],sf.depth-1,sf.min_leaf)\n",
    "\n",
    "    def find_split(sf, column_indexes):\n",
    "        column = sf.dx.values[sf.indexes,column_indexes]\n",
    "        target= sf.dy[sf.indexes]\n",
    "        sorted_indexes = np.argsort(column)\n",
    "        sorted_target = target[sorted_indexes]\n",
    "        sorted_column = column[sorted_indexes]\n",
    "        target_count = sf.length \n",
    "        target_sum = sorted_target.sum()\n",
    "        target_sqr_sum= (sorted_target**2).sum()\n",
    "        column_count = 0\n",
    "        column_sum = 0.\n",
    "        column_sqr_sum = 0.\n",
    "\n",
    "        for i in range(sf.length-sf.depth-1):\n",
    "            indivisual_x = sorted_column[i]\n",
    "            indivisual_y = sorted_target[i]\n",
    "            column_count += 1\n",
    "            target_count -= 1\n",
    "            column_sum += indivisual_y\n",
    "            target_sum -= indivisual_y\n",
    "            column_sqr_sum += indivisual_y**2\n",
    "            target_sqr_sum -= indivisual_y**2\n",
    "            if i<sf.depth or indivisual_x==sorted_column[i+1]:\n",
    "                continue\n",
    "\n",
    "            column_deviation = sf.deviation(column_count, column_sum, column_sqr_sum)\n",
    "            target_deviation = sf.deviation(target_count, target_sum, target_sqr_sum)\n",
    "            current_score = column_deviation*column_count/sf.length + target_deviation*target_count/sf.length\n",
    "            if current_score<sf.scr: \n",
    "                sf.column_indexes = column_indexes\n",
    "                sf.scr = current_score\n",
    "                sf.best_split = indivisual_x  \n",
    "    \n",
    "    def prd(sf, prd_x):\n",
    "        if sf.scr == float('inf'): \n",
    "            return sf.val\n",
    "        if prd_x[sf.column_indexes]<=sf.best_split:\n",
    "            node = sf.lhs \n",
    "        else:\n",
    "            node=sf.rhs\n",
    "        return node.prd(prd_x)    "
   ]
  },
  {
   "cell_type": "code",
   "execution_count": 102,
   "metadata": {
    "collapsed": true
   },
   "outputs": [],
   "source": [
    "class RFregressor():\n",
    "    def __init__(sf, x_tr, y_tr, number_of_trees, cols, sm_size, depth=10, mleaf=5):\n",
    "        np.random.seed(12)\n",
    "        if cols == 'sq':\n",
    "            sf.sl_col = int(np.sqrt(x_tr.shape[1]))\n",
    "        elif select_type == 'log':\n",
    "            sf.cols = int(np.log2(x_tr.shape[1]))\n",
    "        else:\n",
    "            sf.sl_type = cols\n",
    "        sf.dx=x_tr\n",
    "        sf.dy=y_tr\n",
    "        sf.sm_size=sm_size\n",
    "        sf.depth=depth\n",
    "        sf.mleaf=mleaf \n",
    "        sf.trees = [sf.single_tree() for i in range(number_of_trees)]\n",
    "\n",
    "    def single_tree(sf):\n",
    "        indexes = np.random.permutation(len(sf.dy))[:sf.sm_size]\n",
    "        selected_cols = np.random.permutation(sf.dx.shape[1])[:sf.sl_col]\n",
    "        return DReg(sf.dx.iloc[indexes], sf.dy[indexes], sf.sl_col,selected_cols,np.arange(sf.sm_size),sf.depth,sf.mleaf)\n",
    "        \n",
    "    def predict(sf, test_x):\n",
    "        return np.array([np.mean([t.prd(np.array(row)) for t in sf.trees], axis=0) for row in test_x])\n",
    "    \n",
    "    def coeff_determination(sf,y,regy): #r2_score by hand\n",
    "        sery=sum((y-regy)**2)\n",
    "        semy=sum((y-np.mean(y))**2)\n",
    "        return 1-(sery/semy)\n",
    "    def score(sf,x_ts,y_ts):\n",
    "        return sf.coeff_determination(y_ts,sf.predict(x_ts)),np.mean( (y_ts-sf.predict(x_ts))**2)\n"
   ]
  },
  {
   "cell_type": "code",
   "execution_count": 103,
   "metadata": {
    "collapsed": true
   },
   "outputs": [],
   "source": [
    "reg = RFregressor( train.drop('mpg',axis=1),np.array(train['mpg']),10, 'sq',train['mpg'].shape[0] ,10,5)"
   ]
  },
  {
   "cell_type": "code",
   "execution_count": 104,
   "metadata": {},
   "outputs": [
    {
     "data": {
      "text/plain": [
       "array([23.916666, 15.      , 26.9     , 26.9     , 13.      , 33.239998,\n",
       "       26.116669, 13.      , 21.857143, 15.8125  , 21.014286, 11.      ,\n",
       "       15.      , 21.014286, 31.136362, 13.      , 19.975002, 21.857143,\n",
       "       18.833332, 24.100002, 11.      , 27.15    , 14.      , 15.8125  ,\n",
       "       29.91    , 26.      , 19.157145, 19.975002, 13.      , 15.8125  ,\n",
       "       21.014286, 23.077778, 28.027271, 26.975   , 22.171429, 11.      ,\n",
       "       21.014286, 17.949999, 26.9     , 13.      , 23.916666, 23.077778,\n",
       "       28.975   , 15.8125  , 20.366667, 36.0375  , 21.014286, 32.109093,\n",
       "       32.109093, 23.077778, 20.366667, 15.8125  , 26.116669, 31.136362,\n",
       "       13.      , 11.      , 25.      , 29.91    , 19.975002, 15.      ,\n",
       "       16.983334, 14.      , 23.916666, 14.      , 29.91    , 26.      ,\n",
       "       15.8125  , 11.      , 13.      , 16.983334, 15.      , 28.027271,\n",
       "       15.      , 19.157145, 29.91    , 19.      , 34.13333 , 36.0375  ,\n",
       "       16.100002], dtype=float32)"
      ]
     },
     "execution_count": 104,
     "metadata": {},
     "output_type": "execute_result"
    }
   ],
   "source": [
    "reg.predict(test.drop('mpg',axis=1).values)"
   ]
  },
  {
   "cell_type": "code",
   "execution_count": 105,
   "metadata": {},
   "outputs": [
    {
     "data": {
      "text/plain": [
       "(0.9975652272228884, 0.1091684028506279)"
      ]
     },
     "execution_count": 105,
     "metadata": {},
     "output_type": "execute_result"
    }
   ],
   "source": [
    "reg.score(test.drop('mpg',axis=1).values,test['mpg'])"
   ]
  },
  {
   "cell_type": "code",
   "execution_count": null,
   "metadata": {},
   "outputs": [],
   "source": [
    "\n"
   ]
  },
  {
   "cell_type": "code",
   "execution_count": null,
   "metadata": {
    "collapsed": true
   },
   "outputs": [],
   "source": []
  }
 ],
 "metadata": {
  "kernelspec": {
   "display_name": "Python 3",
   "language": "python",
   "name": "python3"
  },
  "language_info": {
   "codemirror_mode": {
    "name": "ipython",
    "version": 3
   },
   "file_extension": ".py",
   "mimetype": "text/x-python",
   "name": "python",
   "nbconvert_exporter": "python",
   "pygments_lexer": "ipython3",
   "version": "3.5.0"
  }
 },
 "nbformat": 4,
 "nbformat_minor": 2
}

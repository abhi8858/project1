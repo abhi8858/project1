{
 "cells": [
  {
   "cell_type": "code",
   "execution_count": 1,
   "metadata": {
    "collapsed": true
   },
   "outputs": [],
   "source": [
    "import numpy as np\n",
    "from sklearn.cluster import KMeans\n",
    "import matplotlib.pyplot as plt"
   ]
  },
  {
   "cell_type": "code",
   "execution_count": 2,
   "metadata": {
    "collapsed": true
   },
   "outputs": [],
   "source": [
    "d=np.array([[1,2],[2,3],[2,1.9],[1,2.7],[4,5],[5,6],[6,7],[7,5.5]])"
   ]
  },
  {
   "cell_type": "code",
   "execution_count": 3,
   "metadata": {},
   "outputs": [
    {
     "data": {
      "image/png": "[encoded data removed]",
      "text/plain": [
       "<matplotlib.figure.Figure at 0x9b10df9860>"
      ]
     },
     "metadata": {},
     "output_type": "display_data"
    }
   ],
   "source": [
    "plt.scatter(d[:,0],d[:,1])\n",
    "plt.show()"
   ]
  },
  {
   "cell_type": "code",
   "execution_count": 4,
   "metadata": {
    "collapsed": true
   },
   "outputs": [],
   "source": [
    "algo=KMeans(2)"
   ]
  },
  {
   "cell_type": "code",
   "execution_count": 5,
   "metadata": {},
   "outputs": [
    {
     "data": {
      "text/plain": [
       "KMeans(algorithm='auto', copy_x=True, init='k-means++', max_iter=300,\n",
       "    n_clusters=2, n_init=10, n_jobs=1, precompute_distances='auto',\n",
       "    random_state=None, tol=0.0001, verbose=0)"
      ]
     },
     "execution_count": 5,
     "metadata": {},
     "output_type": "execute_result"
    }
   ],
   "source": [
    "algo.fit(d)"
   ]
  },
  {
   "cell_type": "code",
   "execution_count": 6,
   "metadata": {},
   "outputs": [
    {
     "data": {
      "text/plain": [
       "(array([[5.5  , 5.875],\n",
       "        [1.5  , 2.4  ]]), array([1, 1, 1, 1, 0, 0, 0, 0]))"
      ]
     },
     "execution_count": 6,
     "metadata": {},
     "output_type": "execute_result"
    }
   ],
   "source": [
    "algo.cluster_centers_,algo.labels_"
   ]
  },
  {
   "cell_type": "code",
   "execution_count": 7,
   "metadata": {},
   "outputs": [
    {
     "data": {
      "image/png": "[encoded data removed]",
      "text/plain": [
       "<matplotlib.figure.Figure at 0x9b13dc7a20>"
      ]
     },
     "metadata": {},
     "output_type": "display_data"
    }
   ],
   "source": [
    "m=['s','*','>','+']\n",
    "for i in range(len(d)):\n",
    "    plt.scatter(*d[i],marker=m[algo.labels_[i]],s=150)\n",
    "plt.scatter(algo.cluster_centers_[:,0],algo.cluster_centers_[:,1],marker='X',s=150)\n",
    "plt.show()"
   ]
  },
  {
   "cell_type": "code",
   "execution_count": 57,
   "metadata": {},
   "outputs": [],
   "source": [
    "class Kmeans:\n",
    "    def __init__(sf,n=2,tol=0.0001,max_iter=300):\n",
    "        sf.n=n\n",
    "        sf.iter=max_iter\n",
    "        sf.tol=tol\n",
    "    def fit(sf,data):\n",
    "        sf.cent=[]\n",
    "        for i in range(sf.n):\n",
    "            sf.cent.append(data[i])\n",
    "        for i in range(sf.iter):\n",
    "            d=dict.fromkeys(range(sf.n))\n",
    "            for i in d:\n",
    "                d[i]=[]\n",
    "            for pt in data:\n",
    "                dist=[np.linalg.norm(c-pt) for c in sf.cent]\n",
    "                d[dist.index(min(dist))].append(pt)\n",
    "            prev=sf.cent.copy()\n",
    "            for key in d:\n",
    "                sf.cent[key]=np.mean(d[key],axis=0)\n",
    "            if np.linalg.norm(np.array(prev)-np.array(sf.cent))<sf.tol:\n",
    "                break\n",
    "        sf.labels=[]\n",
    "        for pt in data:\n",
    "            for key in d:\n",
    "                if pt in np.array(d[key]):\n",
    "                    sf.labels.append(key)"
   ]
  },
  {
   "cell_type": "code",
   "execution_count": 58,
   "metadata": {},
   "outputs": [
    {
     "data": {
      "text/plain": [
       "([array([1.5, 2.4]), array([5.5  , 5.875])], [0, 0, 0, 0, 1, 1, 1, 1])"
      ]
     },
     "execution_count": 58,
     "metadata": {},
     "output_type": "execute_result"
    }
   ],
   "source": [
    "alg=Kmeans(n=2)\n",
    "alg.fit(d)\n",
    "alg.cent,alg.labels\n"
   ]
  },
  {
   "cell_type": "code",
   "execution_count": null,
   "metadata": {
    "collapsed": true
   },
   "outputs": [],
   "source": []
  },
  {
   "cell_type": "code",
   "execution_count": null,
   "metadata": {
    "collapsed": true
   },
   "outputs": [],
   "source": []
  }
 ],
 "metadata": {
  "kernelspec": {
   "display_name": "Python 3",
   "language": "python",
   "name": "python3"
  },
  "language_info": {
   "codemirror_mode": {
    "name": "ipython",
    "version": 3
   },
   "file_extension": ".py",
   "mimetype": "text/x-python",
   "name": "python",
   "nbconvert_exporter": "python",
   "pygments_lexer": "ipython3",
   "version": "3.5.0"
  }
 },
 "nbformat": 4,
 "nbformat_minor": 2
}
